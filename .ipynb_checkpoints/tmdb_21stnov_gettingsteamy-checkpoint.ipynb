{
 "cells": [
  {
   "cell_type": "markdown",
   "metadata": {},
   "source": [
    "\n",
    "\n",
    "# Project: Investigate a TMDb movie dataset (21Nov17)\n",
    "\n",
    "## Table of Contents\n",
    "<ul>\n",
    "<li><a href=\"#intro\">Introduction</a></li>\n",
    "<li><a href=\"#wrangling\">Data Wrangling</a></li>\n",
    "<li><a href=\"#eda\">Exploratory Data Analysis</a></li>\n",
    "<li><a href=\"#conclusions\">Conclusions</a></li>\n",
    "</ul>"
   ]
  },
  {
   "cell_type": "markdown",
   "metadata": {},
   "source": [
    "<a id='intro'></a>\n",
    "## Introduction\n",
    "\n",
    "\n",
    "Questions for research\n",
    "- Per actor, what is the avg box office earning of films he has acted in. \n",
    "- per actor, what is the avg rating of movies he has acted in. \n",
    "- highest rated genres per yearbins, highest box office earning genres per year. "
   ]
  },
  {
   "cell_type": "code",
   "execution_count": 1,
   "metadata": {
    "collapsed": true
   },
   "outputs": [],
   "source": [
    "# Use this cell to set up import statements for all of the packages that you\n",
    "#   plan to use.\n",
    "\n",
    "import matplotlib.pyplot as plt\n",
    "%matplotlib inline\n",
    "\n",
    "import numpy as np\n",
    "import pandas as pd\n",
    "import seaborn as sns\n",
    "import time"
   ]
  },
  {
   "cell_type": "markdown",
   "metadata": {},
   "source": [
    "<a id='wrangling'></a>\n",
    "## Wrangling\n",
    "\n",
    "you will load in the data, check for cleanliness, and then trim and clean your dataset for analysis. Make sure that you document your steps carefully and justify your cleaning decisions.\n",
    "\n",
    "### General Properties"
   ]
  },
  {
   "cell_type": "code",
   "execution_count": 2,
   "metadata": {
    "collapsed": false
   },
   "outputs": [
    {
     "data": {
      "text/html": [
       "<div>\n",
       "<table border=\"1\" class=\"dataframe\">\n",
       "  <thead>\n",
       "    <tr style=\"text-align: right;\">\n",
       "      <th></th>\n",
       "      <th>keywords</th>\n",
       "      <th>overview</th>\n",
       "      <th>runtime</th>\n",
       "      <th>genres</th>\n",
       "      <th>production_companies</th>\n",
       "      <th>release_date</th>\n",
       "      <th>vote_count</th>\n",
       "      <th>vote_average</th>\n",
       "      <th>release_year</th>\n",
       "      <th>budget_adj</th>\n",
       "      <th>revenue_adj</th>\n",
       "    </tr>\n",
       "  </thead>\n",
       "  <tbody>\n",
       "    <tr>\n",
       "      <th>0</th>\n",
       "      <td>monster|dna|tyrannosaurus rex|velociraptor|island</td>\n",
       "      <td>Twenty-two years after the events of Jurassic ...</td>\n",
       "      <td>124</td>\n",
       "      <td>Action|Adventure|Science Fiction|Thriller</td>\n",
       "      <td>Universal Studios|Amblin Entertainment|Legenda...</td>\n",
       "      <td>6/9/15</td>\n",
       "      <td>5562</td>\n",
       "      <td>6.5</td>\n",
       "      <td>2015</td>\n",
       "      <td>1.379999e+08</td>\n",
       "      <td>1.392446e+09</td>\n",
       "    </tr>\n",
       "  </tbody>\n",
       "</table>\n",
       "</div>"
      ],
      "text/plain": [
       "                                            keywords  \\\n",
       "0  monster|dna|tyrannosaurus rex|velociraptor|island   \n",
       "\n",
       "                                            overview  runtime  \\\n",
       "0  Twenty-two years after the events of Jurassic ...      124   \n",
       "\n",
       "                                      genres  \\\n",
       "0  Action|Adventure|Science Fiction|Thriller   \n",
       "\n",
       "                                production_companies release_date  vote_count  \\\n",
       "0  Universal Studios|Amblin Entertainment|Legenda...       6/9/15        5562   \n",
       "\n",
       "   vote_average  release_year    budget_adj   revenue_adj  \n",
       "0           6.5          2015  1.379999e+08  1.392446e+09  "
      ]
     },
     "execution_count": 2,
     "metadata": {},
     "output_type": "execute_result"
    }
   ],
   "source": [
    "# Load your data and print out a few lines. Perform operations to inspect data\n",
    "#   types and look for instances of missing or possibly errant data.\n",
    "\n",
    "tmdb_df = pd.read_csv('tmdb-movies.csv')\n",
    "len(tmdb_df)\n",
    "tmdb_df.iloc[:1, 10:]\n",
    "#cast, director, production companies, keywords, genres\n",
    "#"
   ]
  },
  {
   "cell_type": "markdown",
   "metadata": {},
   "source": [
    "<h3>PROBLEM 1</h3>"
   ]
  },
  {
   "cell_type": "code",
   "execution_count": 3,
   "metadata": {
    "collapsed": false
   },
   "outputs": [
    {
     "data": {
      "text/plain": [
       "10865"
      ]
     },
     "execution_count": 3,
     "metadata": {},
     "output_type": "execute_result"
    }
   ],
   "source": [
    "#tmdb_df.duplicated('id')\n",
    "df = tmdb_df\n",
    "df[df.duplicated(['id'], keep=False)]  #row 2089 and 2090 have same content . id = 42194\n",
    "\n",
    "#delete 2090\n",
    "df.drop(2090, inplace=True) #row has been deleted.\n",
    "len(df)  #new length - 10865"
   ]
  },
  {
   "cell_type": "markdown",
   "metadata": {},
   "source": [
    "<h3>PROBLEM 2</h3>\n",
    "We see that its string type. We need to convert it to python date type. "
   ]
  },
  {
   "cell_type": "markdown",
   "metadata": {},
   "source": [
    "Checking what is the type stored in 'release_date' column"
   ]
  },
  {
   "cell_type": "code",
   "execution_count": null,
   "metadata": {
    "collapsed": false
   },
   "outputs": [],
   "source": [
    "type(df['release_date'][2])"
   ]
  },
  {
   "cell_type": "markdown",
   "metadata": {},
   "source": [
    "<h3>PROBLEM 3</h3>\n",
    "We see that the 'cast' column has string data separated by '|'. We would want them to be in list form. We can use .split() for this. \n",
    "Same for 'genres', 'production_companies' and 'keywords'"
   ]
  },
  {
   "cell_type": "code",
   "execution_count": null,
   "metadata": {
    "collapsed": false
   },
   "outputs": [],
   "source": [
    "print(df['cast'][4])"
   ]
  },
  {
   "cell_type": "markdown",
   "metadata": {},
   "source": [
    "\n",
    "<h3>PROBLEM 4<h3>\n"
   ]
  },
  {
   "cell_type": "code",
   "execution_count": 4,
   "metadata": {
    "collapsed": false
   },
   "outputs": [
    {
     "data": {
      "text/html": [
       "<div>\n",
       "<table border=\"1\" class=\"dataframe\">\n",
       "  <thead>\n",
       "    <tr style=\"text-align: right;\">\n",
       "      <th></th>\n",
       "      <th>production_companies</th>\n",
       "      <th>release_date</th>\n",
       "      <th>vote_count</th>\n",
       "      <th>vote_average</th>\n",
       "      <th>release_year</th>\n",
       "      <th>budget_adj</th>\n",
       "      <th>revenue_adj</th>\n",
       "    </tr>\n",
       "  </thead>\n",
       "  <tbody>\n",
       "    <tr>\n",
       "      <th>0</th>\n",
       "      <td>Universal Studios|Amblin Entertainment|Legenda...</td>\n",
       "      <td>6/9/15</td>\n",
       "      <td>5562</td>\n",
       "      <td>6.5</td>\n",
       "      <td>2015</td>\n",
       "      <td>1.379999e+08</td>\n",
       "      <td>1.392446e+09</td>\n",
       "    </tr>\n",
       "    <tr>\n",
       "      <th>1</th>\n",
       "      <td>Village Roadshow Pictures|Kennedy Miller Produ...</td>\n",
       "      <td>5/13/15</td>\n",
       "      <td>6185</td>\n",
       "      <td>7.1</td>\n",
       "      <td>2015</td>\n",
       "      <td>1.379999e+08</td>\n",
       "      <td>3.481613e+08</td>\n",
       "    </tr>\n",
       "  </tbody>\n",
       "</table>\n",
       "</div>"
      ],
      "text/plain": [
       "                                production_companies release_date  vote_count  \\\n",
       "0  Universal Studios|Amblin Entertainment|Legenda...       6/9/15        5562   \n",
       "1  Village Roadshow Pictures|Kennedy Miller Produ...      5/13/15        6185   \n",
       "\n",
       "   vote_average  release_year    budget_adj   revenue_adj  \n",
       "0           6.5          2015  1.379999e+08  1.392446e+09  \n",
       "1           7.1          2015  1.379999e+08  3.481613e+08  "
      ]
     },
     "execution_count": 4,
     "metadata": {},
     "output_type": "execute_result"
    }
   ],
   "source": [
    "tmdb_df.iloc[0:2, 14:].head()"
   ]
  },
  {
   "cell_type": "markdown",
   "metadata": {},
   "source": [
    "> **Tip**: You should _not_ perform too many operations in each cell. Create cells freely to explore your data. One option that you can take with this project is to do a lot of explorations in an initial notebook. These don't have to be organized, but make sure you use enough comments to understand the purpose of each code cell. Then, after you're done with your analysis, create a duplicate notebook where you will trim the excess and organize your steps so that you have a flowing, cohesive report.\n",
    "\n",
    "> **Tip**: Make sure that you keep your reader informed on the steps that you are taking in your investigation. Follow every code cell, or every set of related code cells, with a markdown cell to describe to the reader what was found in the preceding cell(s). Try to make it so that the reader can then understand what they will be seeing in the following cell(s).\n",
    "\n",
    "### Data Cleaning (Replace this with more specific notes!)"
   ]
  },
  {
   "cell_type": "markdown",
   "metadata": {},
   "source": [
    "Problem 2 - fixing\n",
    "changing str to date type\n"
   ]
  },
  {
   "cell_type": "code",
   "execution_count": null,
   "metadata": {
    "collapsed": true
   },
   "outputs": [],
   "source": [
    "# After discussing the structure of the data and any problems that need to be\n",
    "#   cleaned, perform those cleaning steps in the second part of this section.\n"
   ]
  },
  {
   "cell_type": "code",
   "execution_count": null,
   "metadata": {
    "collapsed": false
   },
   "outputs": [],
   "source": [
    "\n",
    "\n",
    "def parsedate(string):\n",
    "    return time.strptime(string, '%x')\n",
    "\n",
    "parsedate('10/02/92')\n",
    "\n",
    "df['release_date'] = df['release_date'].apply(parsedate)"
   ]
  },
  {
   "cell_type": "markdown",
   "metadata": {},
   "source": [
    "PROBLEM -3 fixing\n",
    "Making | separated string values, into a list of strings"
   ]
  },
  {
   "cell_type": "code",
   "execution_count": 5,
   "metadata": {
    "collapsed": false
   },
   "outputs": [],
   "source": [
    "def isnan(f):\n",
    "    return isinstance(f, float) and f!=f\n"
   ]
  },
  {
   "cell_type": "markdown",
   "metadata": {},
   "source": [
    "a: 1960 - 1969\n",
    "b: 1970 - 1979\n",
    "c: 1980 - 1989\n",
    "d: 1990 - 1999\n",
    "e: 2000 - 2009\n",
    "f: 2010 - 2019"
   ]
  },
  {
   "cell_type": "code",
   "execution_count": 6,
   "metadata": {
    "collapsed": false
   },
   "outputs": [],
   "source": [
    "#check if release_year has nans\n",
    "assert len(df[df.release_year.apply(isnan)]) == 0 # returned 0rows x 24 columns --> no nan values\n",
    "\n",
    "#new column - year_bin a,b,c,d,e,f \n",
    "def yearbins(year):\n",
    "    \n",
    "    if 1960 <= year <= 1969:\n",
    "        return 'a'\n",
    "    if 1970 <= year <= 1979:\n",
    "        return 'b'\n",
    "    if 1980 <= year <= 1989:\n",
    "        return 'c'\n",
    "    if 1990 <= year <= 1999:\n",
    "        return 'd'\n",
    "    if 2000 <= year <= 2009:\n",
    "        return 'e'\n",
    "    if 2010 <= year <= 2019:\n",
    "        return 'f'\n",
    "\n",
    "df['year_bin']=df.release_year.apply(yearbins)"
   ]
  },
  {
   "cell_type": "code",
   "execution_count": 7,
   "metadata": {
    "collapsed": false
   },
   "outputs": [],
   "source": [
    "#cast, director, keywords, genres, production companies --> make into set\n",
    "    \n",
    "\n",
    "def splitstringtoset(string):\n",
    "    newset = set()\n",
    "    if isnan(string):\n",
    "            return string\n",
    "    \n",
    "    else:\n",
    "        for q in [x.strip() for x in string.split('|')]:\n",
    "            newset.add(q)\n",
    "    return newset\n",
    "\n",
    "df.cast=df.cast.apply(splitstringtoset)\n",
    "df.director=df.director.apply(splitstringtoset)\n",
    "df.keywords = df.keywords.apply(splitstringtoset)\n",
    "df.genres = df.genres.apply(splitstringtoset)\n",
    "df.production_companies = df.production_companies.apply(splitstringtoset)\n",
    "\n",
    "\n",
    "\n",
    "#cast, director, keywords, genres, production companies \n"
   ]
  },
  {
   "cell_type": "markdown",
   "metadata": {},
   "source": [
    "<a id='eda'></a>\n",
    "## Exploration\n",
    "\n",
    "> **Tip**: Now that you've trimmed and cleaned your data, you're ready to move on to exploration. Compute statistics and create visualizations with the goal of addressing the research questions that you posed in the Introduction section. It is recommended that you be systematic with your approach. Look at one variable at a time, and then follow it up by looking at relationships between variables.\n",
    "\n",
    "### Q1\n",
    "### Which genres are most popular from year to year? \n",
    "highest rated genres per year, highest box office earning genres per year.\n",
    "\n",
    "Algo:\n",
    "for each yearbin of 10 years\n",
    "take all genres appearing in all movies in that yearbin. \n",
    "for each genre, find the avg rating and avg. (revenue_adj - budget_adj), of all the movies that contain that genre tag. \n"
   ]
  },
  {
   "cell_type": "code",
   "execution_count": null,
   "metadata": {
    "collapsed": false
   },
   "outputs": [],
   "source": [
    "df.cast.iloc[0]"
   ]
  },
  {
   "cell_type": "code",
   "execution_count": 27,
   "metadata": {
    "collapsed": false
   },
   "outputs": [],
   "source": [
    "# Use this, and more code cells, to explore your data. Don't forget to add\n",
    "#   Markdown cells to document your observations and findings.\n",
    "#Algo:\n",
    "#for each year bin\n",
    "#take all genres appearing in all movies that year. -> add into allgenres_yeaer. dict with key as year. \n",
    "#and value as dict of genres. \n",
    "\n",
    "\n",
    "#for each genre, find the avg rating and avg. (revenue_adj - budget_adj), of all the movies that contain that genre tag. \n",
    "\n",
    "gb_yearbin= df.groupby('year_bin')\n",
    "\n",
    "allgenres_yearbin = {} #all genres seen in a yearbin. key value pairs\n",
    "allgenres=set() #all genres of movives\n",
    "\n",
    "for yearbin, year_df in gb_yearbin:\n",
    "    \n",
    "\n",
    "    \n",
    "        \n",
    "    def splitcsv(list):\n",
    "        if(isnan(list)):\n",
    "            pass\n",
    "        \n",
    "        else:\n",
    "            for x in list:\n",
    "                allgenres.add(x)\n",
    "                try:\n",
    "                    allgenres_yearbin[yearbin].add(x)\n",
    "                except KeyError:\n",
    "                    allgenres_yearbin[yearbin]={x}\n",
    "    \n",
    "    \n",
    "    year_df.genres.apply(splitcsv) #populating all genres and allgenres_year\n",
    "    "
   ]
  },
  {
   "cell_type": "code",
   "execution_count": 26,
   "metadata": {
    "collapsed": false
   },
   "outputs": [
    {
     "name": "stdout",
     "output_type": "stream",
     "text": [
      "20\n",
      "20\n",
      "20\n",
      "20\n",
      "20\n",
      "20\n"
     ]
    }
   ],
   "source": [
    "print len(allgenres_yearbin['a'])\n",
    "print len(allgenres_yearbin['b'])\n",
    "print len(allgenres_yearbin['c'])\n",
    "print len(allgenres_yearbin['d'])\n",
    "print len(allgenres_yearbin['e'])\n",
    "print len(allgenres_yearbin['f'])\n"
   ]
  },
  {
   "cell_type": "code",
   "execution_count": 90,
   "metadata": {
    "collapsed": false
   },
   "outputs": [
    {
     "data": {
      "text/html": [
       "<div>\n",
       "<table border=\"1\" class=\"dataframe\">\n",
       "  <thead>\n",
       "    <tr style=\"text-align: right;\">\n",
       "      <th></th>\n",
       "      <th>a</th>\n",
       "      <th>b</th>\n",
       "      <th>c</th>\n",
       "      <th>d</th>\n",
       "      <th>e</th>\n",
       "      <th>f</th>\n",
       "    </tr>\n",
       "  </thead>\n",
       "  <tbody>\n",
       "    <tr>\n",
       "      <th>Romance</th>\n",
       "      <td>NaN</td>\n",
       "      <td>NaN</td>\n",
       "      <td>NaN</td>\n",
       "      <td>NaN</td>\n",
       "      <td>NaN</td>\n",
       "      <td>NaN</td>\n",
       "    </tr>\n",
       "    <tr>\n",
       "      <th>Horror</th>\n",
       "      <td>NaN</td>\n",
       "      <td>NaN</td>\n",
       "      <td>NaN</td>\n",
       "      <td>NaN</td>\n",
       "      <td>NaN</td>\n",
       "      <td>NaN</td>\n",
       "    </tr>\n",
       "    <tr>\n",
       "      <th>Drama</th>\n",
       "      <td>NaN</td>\n",
       "      <td>NaN</td>\n",
       "      <td>NaN</td>\n",
       "      <td>NaN</td>\n",
       "      <td>NaN</td>\n",
       "      <td>NaN</td>\n",
       "    </tr>\n",
       "    <tr>\n",
       "      <th>Adventure</th>\n",
       "      <td>NaN</td>\n",
       "      <td>NaN</td>\n",
       "      <td>NaN</td>\n",
       "      <td>NaN</td>\n",
       "      <td>NaN</td>\n",
       "      <td>NaN</td>\n",
       "    </tr>\n",
       "    <tr>\n",
       "      <th>Action</th>\n",
       "      <td>NaN</td>\n",
       "      <td>NaN</td>\n",
       "      <td>NaN</td>\n",
       "      <td>NaN</td>\n",
       "      <td>NaN</td>\n",
       "      <td>NaN</td>\n",
       "    </tr>\n",
       "    <tr>\n",
       "      <th>Comedy</th>\n",
       "      <td>NaN</td>\n",
       "      <td>NaN</td>\n",
       "      <td>NaN</td>\n",
       "      <td>NaN</td>\n",
       "      <td>NaN</td>\n",
       "      <td>NaN</td>\n",
       "    </tr>\n",
       "    <tr>\n",
       "      <th>Thriller</th>\n",
       "      <td>NaN</td>\n",
       "      <td>NaN</td>\n",
       "      <td>NaN</td>\n",
       "      <td>NaN</td>\n",
       "      <td>NaN</td>\n",
       "      <td>NaN</td>\n",
       "    </tr>\n",
       "  </tbody>\n",
       "</table>\n",
       "</div>"
      ],
      "text/plain": [
       "             a    b    c    d    e    f\n",
       "Romance    NaN  NaN  NaN  NaN  NaN  NaN\n",
       "Horror     NaN  NaN  NaN  NaN  NaN  NaN\n",
       "Drama      NaN  NaN  NaN  NaN  NaN  NaN\n",
       "Adventure  NaN  NaN  NaN  NaN  NaN  NaN\n",
       "Action     NaN  NaN  NaN  NaN  NaN  NaN\n",
       "Comedy     NaN  NaN  NaN  NaN  NaN  NaN\n",
       "Thriller   NaN  NaN  NaN  NaN  NaN  NaN"
      ]
     },
     "execution_count": 90,
     "metadata": {},
     "output_type": "execute_result"
    }
   ],
   "source": [
    "index = list(allgenres)\n",
    "columns = ['a','b','c','d','e','f']\n",
    "#genre yearbin rating\n",
    "gyr_df = pd.DataFrame(index = index, columns=columns)\n",
    "gyr_df.head()\n",
    "\n",
    "numberofoccurences_genre = pd.DataFrame(index = index, columns = columns)\n",
    "numberofoccurences_genre\n"
   ]
  },
  {
   "cell_type": "code",
   "execution_count": 91,
   "metadata": {
    "collapsed": false
   },
   "outputs": [],
   "source": [
    "#for gyr_df --> the ratings for genres we are studying across year bins\n",
    "# we are filling values in this cell\n",
    "\n",
    "for yearbin, yearbin_df in gb_yearbin:\n",
    "    \n",
    "    \n",
    "    \n",
    "    for i in list(genresbeingstudied): #for each genre we are analysing\n",
    "        \n",
    "        \n",
    "        def ifinset(sett):\n",
    "            if(isnan(sett)):\n",
    "                #print(sett)\n",
    "                return False\n",
    "            for eachgenre in sett:\n",
    "                if eachgenre == i:\n",
    "                    return True\n",
    "            return False\n",
    "\n",
    "        gyr_df.loc[i,yearbin] = np.nanmean(yearbin_df[yearbin_df.genres.apply(ifinset)]['vote_average'])\n",
    "        #numberofoccurences_genre.loc[i,yearbin] = len(yearbin_df[yearbin_df.genres.apply(ifinset)])\n",
    "        \n",
    "        \n",
    "        \n",
    "        "
   ]
  },
  {
   "cell_type": "code",
   "execution_count": 112,
   "metadata": {
    "collapsed": false
   },
   "outputs": [
    {
     "ename": "AttributeError",
     "evalue": "'Series' object has no attribute 'genres'",
     "output_type": "error",
     "traceback": [
      "\u001b[0;31m---------------------------------------------------------------------------\u001b[0m",
      "\u001b[0;31mAttributeError\u001b[0m                            Traceback (most recent call last)",
      "\u001b[0;32m<ipython-input-112-29470bbb20a3>\u001b[0m in \u001b[0;36m<module>\u001b[0;34m()\u001b[0m\n\u001b[1;32m     15\u001b[0m             \u001b[1;32mreturn\u001b[0m \u001b[0mFalse\u001b[0m\u001b[1;33m\u001b[0m\u001b[0m\n\u001b[1;32m     16\u001b[0m \u001b[1;33m\u001b[0m\u001b[0m\n\u001b[0;32m---> 17\u001b[0;31m     \u001b[0mavg_rating_of_genresbeingstudied_list\u001b[0m\u001b[1;33m.\u001b[0m\u001b[0mappend\u001b[0m\u001b[1;33m(\u001b[0m\u001b[0mnp\u001b[0m\u001b[1;33m.\u001b[0m\u001b[0mnanmean\u001b[0m\u001b[1;33m(\u001b[0m\u001b[0mdf\u001b[0m\u001b[1;33m[\u001b[0m\u001b[0mdf\u001b[0m\u001b[1;33m.\u001b[0m\u001b[0mgenres\u001b[0m\u001b[1;33m.\u001b[0m\u001b[0mapply\u001b[0m\u001b[1;33m(\u001b[0m\u001b[0mifinset\u001b[0m\u001b[1;33m)\u001b[0m\u001b[1;33m]\u001b[0m\u001b[1;33m[\u001b[0m\u001b[1;34m'vote_average'\u001b[0m\u001b[1;33m]\u001b[0m\u001b[1;33m)\u001b[0m\u001b[1;33m)\u001b[0m\u001b[1;33m\u001b[0m\u001b[0m\n\u001b[0m\u001b[1;32m     18\u001b[0m \u001b[1;33m\u001b[0m\u001b[0m\n\u001b[1;32m     19\u001b[0m \u001b[0mavg_rating_of_genresbeingstudied\u001b[0m\u001b[1;33m\u001b[0m\u001b[0m\n",
      "\u001b[0;32mC:\\Users\\roshg\\Anaconda3\\envs\\dand\\lib\\site-packages\\pandas\\core\\generic.pyc\u001b[0m in \u001b[0;36m__getattr__\u001b[0;34m(self, name)\u001b[0m\n\u001b[1;32m   2742\u001b[0m             \u001b[1;32mif\u001b[0m \u001b[0mname\u001b[0m \u001b[1;32min\u001b[0m \u001b[0mself\u001b[0m\u001b[1;33m.\u001b[0m\u001b[0m_info_axis\u001b[0m\u001b[1;33m:\u001b[0m\u001b[1;33m\u001b[0m\u001b[0m\n\u001b[1;32m   2743\u001b[0m                 \u001b[1;32mreturn\u001b[0m \u001b[0mself\u001b[0m\u001b[1;33m[\u001b[0m\u001b[0mname\u001b[0m\u001b[1;33m]\u001b[0m\u001b[1;33m\u001b[0m\u001b[0m\n\u001b[0;32m-> 2744\u001b[0;31m             \u001b[1;32mreturn\u001b[0m \u001b[0mobject\u001b[0m\u001b[1;33m.\u001b[0m\u001b[0m__getattribute__\u001b[0m\u001b[1;33m(\u001b[0m\u001b[0mself\u001b[0m\u001b[1;33m,\u001b[0m \u001b[0mname\u001b[0m\u001b[1;33m)\u001b[0m\u001b[1;33m\u001b[0m\u001b[0m\n\u001b[0m\u001b[1;32m   2745\u001b[0m \u001b[1;33m\u001b[0m\u001b[0m\n\u001b[1;32m   2746\u001b[0m     \u001b[1;32mdef\u001b[0m \u001b[0m__setattr__\u001b[0m\u001b[1;33m(\u001b[0m\u001b[0mself\u001b[0m\u001b[1;33m,\u001b[0m \u001b[0mname\u001b[0m\u001b[1;33m,\u001b[0m \u001b[0mvalue\u001b[0m\u001b[1;33m)\u001b[0m\u001b[1;33m:\u001b[0m\u001b[1;33m\u001b[0m\u001b[0m\n",
      "\u001b[0;31mAttributeError\u001b[0m: 'Series' object has no attribute 'genres'"
     ]
    }
   ],
   "source": [
    "#find average rating of the genresbeingstudied across the whole of df\n",
    "\n",
    "\n",
    "avg_rating_of_genresbeingstudied_list = []\n",
    "\n",
    "for i in list(genresbeingstudied):\n",
    "    \n",
    "    def ifinset(sett):\n",
    "            if(isnan(sett)):\n",
    "                #print(sett)\n",
    "                return False\n",
    "            for eachgenre in sett:\n",
    "                if eachgenre == i:\n",
    "                    return True\n",
    "            return False\n",
    "    \n",
    "    avg_rating_of_genresbeingstudied_list.append(np.nanmean(df[df.genres.apply(ifinset)]['vote_average']))\n",
    "    \n",
    "avg_rating_of_genresbeingstudied_list\n",
    "thelist = [ ['sentence 1'], ['sentence 2'], ['sentence 3'] ]\n",
    " = pd.Series(avg_rating_of_genresbeingstudied_list )"
   ]
  },
  {
   "cell_type": "code",
   "execution_count": 113,
   "metadata": {
    "collapsed": false
   },
   "outputs": [
    {
     "data": {
      "text/plain": [
       "0    6.042874\n",
       "1    5.337447\n",
       "2    6.165546\n",
       "3    5.940585\n",
       "4    5.787752\n",
       "5    5.905167\n",
       "6    5.750671\n",
       "dtype: float64"
      ]
     },
     "execution_count": 113,
     "metadata": {},
     "output_type": "execute_result"
    }
   ],
   "source": [
    "df"
   ]
  },
  {
   "cell_type": "code",
   "execution_count": 100,
   "metadata": {
    "collapsed": false
   },
   "outputs": [
    {
     "data": {
      "text/html": [
       "<div>\n",
       "<table border=\"1\" class=\"dataframe\">\n",
       "  <thead>\n",
       "    <tr style=\"text-align: right;\">\n",
       "      <th></th>\n",
       "      <th>a</th>\n",
       "      <th>b</th>\n",
       "      <th>c</th>\n",
       "      <th>d</th>\n",
       "      <th>e</th>\n",
       "      <th>f</th>\n",
       "    </tr>\n",
       "  </thead>\n",
       "  <tbody>\n",
       "    <tr>\n",
       "      <th>Romance</th>\n",
       "      <td>6.17612</td>\n",
       "      <td>6.38039</td>\n",
       "      <td>6.07257</td>\n",
       "      <td>6.07302</td>\n",
       "      <td>5.94139</td>\n",
       "      <td>6.09371</td>\n",
       "    </tr>\n",
       "    <tr>\n",
       "      <th>Horror</th>\n",
       "      <td>6.06809</td>\n",
       "      <td>6.09038</td>\n",
       "      <td>5.76471</td>\n",
       "      <td>5.46984</td>\n",
       "      <td>5.25785</td>\n",
       "      <td>5.01047</td>\n",
       "    </tr>\n",
       "    <tr>\n",
       "      <th>Drama</th>\n",
       "      <td>6.37083</td>\n",
       "      <td>6.51255</td>\n",
       "      <td>6.25697</td>\n",
       "      <td>6.22181</td>\n",
       "      <td>6.1244</td>\n",
       "      <td>6.07047</td>\n",
       "    </tr>\n",
       "    <tr>\n",
       "      <th>Adventure</th>\n",
       "      <td>6.25</td>\n",
       "      <td>6.32078</td>\n",
       "      <td>6.048</td>\n",
       "      <td>5.81636</td>\n",
       "      <td>5.82984</td>\n",
       "      <td>6.00027</td>\n",
       "    </tr>\n",
       "    <tr>\n",
       "      <th>Action</th>\n",
       "      <td>6.04231</td>\n",
       "      <td>6.37107</td>\n",
       "      <td>5.93199</td>\n",
       "      <td>5.7767</td>\n",
       "      <td>5.74462</td>\n",
       "      <td>5.65354</td>\n",
       "    </tr>\n",
       "    <tr>\n",
       "      <th>Comedy</th>\n",
       "      <td>6.15398</td>\n",
       "      <td>6.41148</td>\n",
       "      <td>6.02173</td>\n",
       "      <td>5.91303</td>\n",
       "      <td>5.7791</td>\n",
       "      <td>5.92936</td>\n",
       "    </tr>\n",
       "    <tr>\n",
       "      <th>Thriller</th>\n",
       "      <td>6.32812</td>\n",
       "      <td>6.34797</td>\n",
       "      <td>5.99538</td>\n",
       "      <td>5.89596</td>\n",
       "      <td>5.71969</td>\n",
       "      <td>5.51161</td>\n",
       "    </tr>\n",
       "  </tbody>\n",
       "</table>\n",
       "</div>"
      ],
      "text/plain": [
       "                 a        b        c        d        e        f\n",
       "Romance    6.17612  6.38039  6.07257  6.07302  5.94139  6.09371\n",
       "Horror     6.06809  6.09038  5.76471  5.46984  5.25785  5.01047\n",
       "Drama      6.37083  6.51255  6.25697  6.22181   6.1244  6.07047\n",
       "Adventure     6.25  6.32078    6.048  5.81636  5.82984  6.00027\n",
       "Action     6.04231  6.37107  5.93199   5.7767  5.74462  5.65354\n",
       "Comedy     6.15398  6.41148  6.02173  5.91303   5.7791  5.92936\n",
       "Thriller   6.32812  6.34797  5.99538  5.89596  5.71969  5.51161"
      ]
     },
     "execution_count": 100,
     "metadata": {},
     "output_type": "execute_result"
    }
   ],
   "source": [
    "#printing gyr_df and checking if we have the right ratings for genres across the year bins\n",
    "\n",
    "gyr_df"
   ]
  },
  {
   "cell_type": "code",
   "execution_count": null,
   "metadata": {
    "collapsed": true
   },
   "outputs": [],
   "source": [
    "for yearbin, year_df in gb_yearbin:\n",
    "    \n",
    "    \n",
    "    \n",
    "    for i in allgenres_yearbin[yearbin]: #for each genre in that year\n",
    "        \n",
    "        cnt = 0\n",
    "        \n",
    "        def ifinset(sett):\n",
    "            if(isnan(sett)):\n",
    "                #print(sett)\n",
    "                return False\n",
    "            for eachgenre in sett:\n",
    "                if eachgenre == i:\n",
    "                    return True\n",
    "            return False\n",
    "        \n",
    "        def genrecounter(set):\n",
    "            if i in set:\n",
    "                cnt +=1\n",
    "            \n",
    "            \n",
    "            \n",
    "        \n",
    "        \n",
    "\n",
    "        gyr_df.loc[i,yearbin] = np.nanmean(year_df[year_df.genres.apply(ifinset)]['vote_average'])\n",
    "        #numberofoccurences_genre.loc[i,yearbin] = len(year_df[year_df.genres.apply(ifinset)])\n",
    "        \n",
    "        \n",
    "        \n",
    "        "
   ]
  },
  {
   "cell_type": "code",
   "execution_count": 89,
   "metadata": {
    "collapsed": false
   },
   "outputs": [
    {
     "data": {
      "text/plain": [
       "{'Action', 'Adventure', 'Comedy', 'Drama', 'Horror', 'Romance', 'Thriller'}"
      ]
     },
     "execution_count": 89,
     "metadata": {},
     "output_type": "execute_result"
    }
   ],
   "source": [
    "#Taking top 5 genres across bins, and adding it into a set, so that we can use that set for our analysis\n",
    "\n",
    "genresbeingstudied = set()\n",
    "\n",
    "for bins in ['a','b','c','d','e','f']:\n",
    "    for genre in pd.to_numeric(numberofoccurences_genre[bins]).nlargest(5).index.values:\n",
    "        genresbeingstudied.add(genre)\n",
    "\n",
    "\n",
    "genresbeingstudied\n",
    "    \n"
   ]
  },
  {
   "cell_type": "code",
   "execution_count": 97,
   "metadata": {
    "collapsed": false
   },
   "outputs": [
    {
     "name": "stdout",
     "output_type": "stream",
     "text": [
      "year_bin\n",
      "a    6.246133\n",
      "b    6.367323\n",
      "c    6.079398\n",
      "d    5.999263\n",
      "e    5.921224\n",
      "f    5.902996\n",
      "Name: vote_average, dtype: float64\n",
      "                 a        b        c        d        e        f\n",
      "Romance    6.17612  6.38039  6.07257  6.07302  5.94139  6.09371\n",
      "Horror     6.06809  6.09038  5.76471  5.46984  5.25785  5.01047\n",
      "Drama      6.37083  6.51255  6.25697  6.22181   6.1244  6.07047\n",
      "Adventure     6.25  6.32078    6.048  5.81636  5.82984  6.00027\n",
      "Action     6.04231  6.37107  5.93199   5.7767  5.74462  5.65354\n",
      "Comedy     6.15398  6.41148  6.02173  5.91303   5.7791  5.92936\n",
      "Thriller   6.32812  6.34797  5.99538  5.89596  5.71969  5.51161\n"
     ]
    },
    {
     "data": {
      "text/html": [
       "<div>\n",
       "<table border=\"1\" class=\"dataframe\">\n",
       "  <thead>\n",
       "    <tr style=\"text-align: right;\">\n",
       "      <th></th>\n",
       "      <th>a</th>\n",
       "      <th>b</th>\n",
       "      <th>c</th>\n",
       "      <th>d</th>\n",
       "      <th>e</th>\n",
       "      <th>f</th>\n",
       "    </tr>\n",
       "  </thead>\n",
       "  <tbody>\n",
       "    <tr>\n",
       "      <th>Romance</th>\n",
       "      <td>-0.0700132</td>\n",
       "      <td>0.0130693</td>\n",
       "      <td>-0.0068265</td>\n",
       "      <td>0.0737571</td>\n",
       "      <td>0.0201662</td>\n",
       "      <td>0.190712</td>\n",
       "    </tr>\n",
       "    <tr>\n",
       "      <th>Horror</th>\n",
       "      <td>-0.178047</td>\n",
       "      <td>-0.276938</td>\n",
       "      <td>-0.314692</td>\n",
       "      <td>-0.529422</td>\n",
       "      <td>-0.663373</td>\n",
       "      <td>-0.892523</td>\n",
       "    </tr>\n",
       "    <tr>\n",
       "      <th>Drama</th>\n",
       "      <td>0.124701</td>\n",
       "      <td>0.145229</td>\n",
       "      <td>0.177576</td>\n",
       "      <td>0.222546</td>\n",
       "      <td>0.203172</td>\n",
       "      <td>0.167479</td>\n",
       "    </tr>\n",
       "    <tr>\n",
       "      <th>Adventure</th>\n",
       "      <td>0.0038674</td>\n",
       "      <td>-0.0465436</td>\n",
       "      <td>-0.0313979</td>\n",
       "      <td>-0.1829</td>\n",
       "      <td>-0.0913821</td>\n",
       "      <td>0.0972715</td>\n",
       "    </tr>\n",
       "    <tr>\n",
       "      <th>Action</th>\n",
       "      <td>-0.203825</td>\n",
       "      <td>0.00375155</td>\n",
       "      <td>-0.147413</td>\n",
       "      <td>-0.22256</td>\n",
       "      <td>-0.176609</td>\n",
       "      <td>-0.249456</td>\n",
       "    </tr>\n",
       "    <tr>\n",
       "      <th>Comedy</th>\n",
       "      <td>-0.0921503</td>\n",
       "      <td>0.0441526</td>\n",
       "      <td>-0.057669</td>\n",
       "      <td>-0.0862377</td>\n",
       "      <td>-0.142125</td>\n",
       "      <td>0.0263593</td>\n",
       "    </tr>\n",
       "    <tr>\n",
       "      <th>Thriller</th>\n",
       "      <td>0.0819924</td>\n",
       "      <td>-0.0193499</td>\n",
       "      <td>-0.0840133</td>\n",
       "      <td>-0.103304</td>\n",
       "      <td>-0.201532</td>\n",
       "      <td>-0.39139</td>\n",
       "    </tr>\n",
       "  </tbody>\n",
       "</table>\n",
       "</div>"
      ],
      "text/plain": [
       "                   a           b          c          d          e          f\n",
       "Romance   -0.0700132   0.0130693 -0.0068265  0.0737571  0.0201662   0.190712\n",
       "Horror     -0.178047   -0.276938  -0.314692  -0.529422  -0.663373  -0.892523\n",
       "Drama       0.124701    0.145229   0.177576   0.222546   0.203172   0.167479\n",
       "Adventure  0.0038674  -0.0465436 -0.0313979    -0.1829 -0.0913821  0.0972715\n",
       "Action     -0.203825  0.00375155  -0.147413   -0.22256  -0.176609  -0.249456\n",
       "Comedy    -0.0921503   0.0441526  -0.057669 -0.0862377  -0.142125  0.0263593\n",
       "Thriller   0.0819924  -0.0193499 -0.0840133  -0.103304  -0.201532   -0.39139"
      ]
     },
     "execution_count": 97,
     "metadata": {},
     "output_type": "execute_result"
    }
   ],
   "source": [
    "#find average rating of movies in a,b,c,d,e,f yearbins\n",
    "\n",
    "gb_yearbin['vote_average'].mean()  # we see that the average rating of movies across yearbin have decreaed in a constant manner. \n",
    "#lets save it into a dictionary\n",
    "'''\n",
    "avg_rating_allmovies_yearbins = gb_yearbin['vote_average'].mean()\n",
    "avg_rating_allmovies_yearbins\n",
    "corrected_gyr = (gyr_df-avg_rating_allmovies_yearbins)\n",
    "#(corrected_gyr.a).nlargest(2)\n",
    "\n",
    "\n",
    "for i in ['a','b','c','d','e','f']:\n",
    "    print pd.to_numeric(corrected_gyr[i]).nlargest(5)\n",
    "    print '\\n'\n",
    "'''\n",
    "\n",
    "gb_yearbin['vote_average'].mean() #avg of all movies in that particular year bin \n",
    "gyr_df\n",
    "gyr_df-gb_yearbin['vote_average'].mean()\n",
    "\n",
    "\n"
   ]
  },
  {
   "cell_type": "code",
   "execution_count": 39,
   "metadata": {
    "collapsed": false
   },
   "outputs": [
    {
     "name": "stdout",
     "output_type": "stream",
     "text": [
      "a\n",
      "9719     1968\n",
      "9720     1968\n",
      "9721     1968\n",
      "9722     1968\n",
      "9723     1968\n",
      "9724     1968\n",
      "9725     1968\n",
      "9726     1968\n",
      "9727     1968\n",
      "9728     1968\n",
      "9729     1968\n",
      "9730     1968\n",
      "9731     1968\n",
      "9732     1968\n",
      "9733     1968\n",
      "9734     1968\n",
      "9735     1968\n",
      "9736     1968\n",
      "9737     1968\n",
      "9738     1968\n",
      "9739     1968\n",
      "9740     1968\n",
      "9741     1968\n",
      "9742     1968\n",
      "9743     1968\n",
      "9744     1968\n",
      "9745     1968\n",
      "9746     1968\n",
      "9747     1968\n",
      "9748     1968\n",
      "         ... \n",
      "10836    1966\n",
      "10837    1966\n",
      "10838    1966\n",
      "10839    1966\n",
      "10840    1966\n",
      "10841    1966\n",
      "10842    1966\n",
      "10843    1966\n",
      "10844    1966\n",
      "10845    1966\n",
      "10846    1966\n",
      "10847    1966\n",
      "10848    1966\n",
      "10849    1966\n",
      "10850    1966\n",
      "10851    1966\n",
      "10852    1966\n",
      "10853    1966\n",
      "10854    1966\n",
      "10855    1966\n",
      "10856    1966\n",
      "10857    1966\n",
      "10858    1966\n",
      "10859    1966\n",
      "10860    1966\n",
      "10861    1966\n",
      "10862    1966\n",
      "10863    1966\n",
      "10864    1966\n",
      "10865    1966\n",
      "Name: release_year, dtype: int64\n",
      "b\n",
      "1329     1977\n",
      "1330     1977\n",
      "1331     1977\n",
      "1332     1977\n",
      "1333     1977\n",
      "1334     1977\n",
      "1335     1977\n",
      "1336     1977\n",
      "1337     1977\n",
      "1338     1977\n",
      "1339     1977\n",
      "1340     1977\n",
      "1341     1977\n",
      "1342     1977\n",
      "1343     1977\n",
      "1344     1977\n",
      "1345     1977\n",
      "1346     1977\n",
      "1347     1977\n",
      "1348     1977\n",
      "1349     1977\n",
      "1350     1977\n",
      "1351     1977\n",
      "1352     1977\n",
      "1353     1977\n",
      "1354     1977\n",
      "1355     1977\n",
      "1356     1977\n",
      "1357     1977\n",
      "1358     1977\n",
      "         ... \n",
      "10790    1978\n",
      "10791    1978\n",
      "10792    1978\n",
      "10793    1978\n",
      "10794    1978\n",
      "10795    1978\n",
      "10796    1978\n",
      "10797    1978\n",
      "10798    1978\n",
      "10799    1978\n",
      "10800    1978\n",
      "10801    1978\n",
      "10802    1978\n",
      "10803    1978\n",
      "10804    1978\n",
      "10805    1978\n",
      "10806    1978\n",
      "10807    1978\n",
      "10808    1978\n",
      "10809    1978\n",
      "10810    1978\n",
      "10811    1978\n",
      "10812    1978\n",
      "10813    1978\n",
      "10814    1978\n",
      "10815    1978\n",
      "10816    1978\n",
      "10817    1978\n",
      "10818    1978\n",
      "10819    1978\n",
      "Name: release_year, dtype: int64\n",
      "c\n",
      "6081     1985\n",
      "6082     1985\n",
      "6083     1985\n",
      "6084     1985\n",
      "6085     1985\n",
      "6086     1985\n",
      "6087     1985\n",
      "6088     1985\n",
      "6089     1985\n",
      "6090     1985\n",
      "6091     1985\n",
      "6092     1985\n",
      "6093     1985\n",
      "6094     1985\n",
      "6095     1985\n",
      "6096     1985\n",
      "6097     1985\n",
      "6098     1985\n",
      "6099     1985\n",
      "6100     1985\n",
      "6101     1985\n",
      "6102     1985\n",
      "6103     1985\n",
      "6104     1985\n",
      "6105     1985\n",
      "6106     1985\n",
      "6107     1985\n",
      "6108     1985\n",
      "6109     1985\n",
      "6110     1985\n",
      "         ... \n",
      "10563    1986\n",
      "10564    1986\n",
      "10565    1986\n",
      "10566    1986\n",
      "10567    1986\n",
      "10568    1986\n",
      "10569    1986\n",
      "10570    1986\n",
      "10571    1986\n",
      "10572    1986\n",
      "10573    1986\n",
      "10574    1986\n",
      "10575    1986\n",
      "10576    1986\n",
      "10577    1986\n",
      "10578    1986\n",
      "10579    1986\n",
      "10580    1986\n",
      "10581    1986\n",
      "10582    1986\n",
      "10583    1986\n",
      "10584    1986\n",
      "10585    1986\n",
      "10586    1986\n",
      "10587    1986\n",
      "10588    1986\n",
      "10589    1986\n",
      "10590    1986\n",
      "10591    1986\n",
      "10592    1986\n",
      "Name: release_year, dtype: int64\n",
      "d\n",
      "2409     1999\n",
      "2410     1999\n",
      "2411     1999\n",
      "2412     1999\n",
      "2413     1999\n",
      "2414     1999\n",
      "2415     1999\n",
      "2416     1999\n",
      "2417     1999\n",
      "2418     1999\n",
      "2419     1999\n",
      "2420     1999\n",
      "2421     1999\n",
      "2422     1999\n",
      "2423     1999\n",
      "2424     1999\n",
      "2425     1999\n",
      "2426     1999\n",
      "2427     1999\n",
      "2428     1999\n",
      "2429     1999\n",
      "2430     1999\n",
      "2431     1999\n",
      "2432     1999\n",
      "2433     1999\n",
      "2434     1999\n",
      "2435     1999\n",
      "2436     1999\n",
      "2437     1999\n",
      "2438     1999\n",
      "         ... \n",
      "10368    1993\n",
      "10369    1993\n",
      "10370    1993\n",
      "10371    1993\n",
      "10372    1993\n",
      "10373    1993\n",
      "10374    1993\n",
      "10375    1993\n",
      "10376    1993\n",
      "10377    1993\n",
      "10378    1993\n",
      "10379    1993\n",
      "10380    1993\n",
      "10381    1993\n",
      "10382    1993\n",
      "10383    1993\n",
      "10384    1993\n",
      "10385    1993\n",
      "10386    1993\n",
      "10387    1993\n",
      "10388    1993\n",
      "10389    1993\n",
      "10390    1993\n",
      "10391    1993\n",
      "10392    1993\n",
      "10393    1993\n",
      "10394    1993\n",
      "10395    1993\n",
      "10396    1993\n",
      "10397    1993\n",
      "Name: release_year, dtype: int64\n",
      "e\n",
      "1386    2009\n",
      "1387    2009\n",
      "1388    2009\n",
      "1389    2009\n",
      "1390    2009\n",
      "1391    2009\n",
      "1392    2009\n",
      "1393    2009\n",
      "1394    2009\n",
      "1395    2009\n",
      "1396    2009\n",
      "1397    2009\n",
      "1398    2009\n",
      "1399    2009\n",
      "1400    2009\n",
      "1401    2009\n",
      "1402    2009\n",
      "1403    2009\n",
      "1404    2009\n",
      "1405    2009\n",
      "1406    2009\n",
      "1407    2009\n",
      "1408    2009\n",
      "1409    2009\n",
      "1410    2009\n",
      "1411    2009\n",
      "1412    2009\n",
      "1413    2009\n",
      "1414    2009\n",
      "1415    2009\n",
      "        ... \n",
      "8858    2000\n",
      "8859    2000\n",
      "8860    2000\n",
      "8861    2000\n",
      "8862    2000\n",
      "8863    2000\n",
      "8864    2000\n",
      "8865    2000\n",
      "8866    2000\n",
      "8867    2000\n",
      "8868    2000\n",
      "8869    2000\n",
      "8870    2000\n",
      "8871    2000\n",
      "8872    2000\n",
      "8873    2000\n",
      "8874    2000\n",
      "8875    2000\n",
      "8876    2000\n",
      "8877    2000\n",
      "8878    2000\n",
      "8879    2000\n",
      "8880    2000\n",
      "8881    2000\n",
      "8882    2000\n",
      "8883    2000\n",
      "8884    2000\n",
      "8885    2000\n",
      "8886    2000\n",
      "8887    2000\n",
      "Name: release_year, dtype: int64\n",
      "f\n",
      "0       2015\n",
      "1       2015\n",
      "2       2015\n",
      "3       2015\n",
      "4       2015\n",
      "5       2015\n",
      "6       2015\n",
      "7       2015\n",
      "8       2015\n",
      "9       2015\n",
      "10      2015\n",
      "11      2015\n",
      "12      2015\n",
      "13      2015\n",
      "14      2015\n",
      "15      2015\n",
      "16      2015\n",
      "17      2015\n",
      "18      2015\n",
      "19      2015\n",
      "20      2015\n",
      "21      2015\n",
      "22      2015\n",
      "23      2015\n",
      "24      2015\n",
      "25      2015\n",
      "26      2015\n",
      "27      2015\n",
      "28      2015\n",
      "29      2015\n",
      "        ... \n",
      "6051    2013\n",
      "6052    2013\n",
      "6053    2013\n",
      "6054    2013\n",
      "6055    2013\n",
      "6056    2013\n",
      "6057    2013\n",
      "6058    2013\n",
      "6059    2013\n",
      "6060    2013\n",
      "6061    2013\n",
      "6062    2013\n",
      "6063    2013\n",
      "6064    2013\n",
      "6065    2013\n",
      "6066    2013\n",
      "6067    2013\n",
      "6068    2013\n",
      "6069    2013\n",
      "6070    2013\n",
      "6071    2013\n",
      "6072    2013\n",
      "6073    2013\n",
      "6074    2013\n",
      "6075    2013\n",
      "6076    2013\n",
      "6077    2013\n",
      "6078    2013\n",
      "6079    2013\n",
      "6080    2013\n",
      "Name: release_year, dtype: int64\n"
     ]
    }
   ],
   "source": [
    "#find top 5 genres, and last 5 genres, in order across year bins. \n",
    "\n",
    "#find number of movies in each genre in each bins. \n",
    "for i,j in gb_yearbin:\n",
    "    print i\n",
    "    print j.release_year\n",
    "    "
   ]
  },
  {
   "cell_type": "code",
   "execution_count": null,
   "metadata": {
    "collapsed": false
   },
   "outputs": [],
   "source": [
    "df[['cast','director','keywords','genres','production_companies']]"
   ]
  },
  {
   "cell_type": "code",
   "execution_count": null,
   "metadata": {
    "collapsed": false
   },
   "outputs": [],
   "source": [
    "#add new column - 'profit_adj' : \n",
    "\n",
    "df['profit_adj']=df.revenue_adj.sub(df.budget_adj, axis=0)\n"
   ]
  },
  {
   "cell_type": "code",
   "execution_count": null,
   "metadata": {
    "collapsed": false
   },
   "outputs": [],
   "source": [
    "#add new column - 'roi_adj'\n",
    "\n",
    "df['roi_adj']=(df.profit_adj.div(df.budget_adj)).mul(100)\n",
    "df.roi_adj"
   ]
  },
  {
   "cell_type": "code",
   "execution_count": null,
   "metadata": {
    "collapsed": false
   },
   "outputs": [],
   "source": [
    "idk = (df.profit_adj > 100000000)"
   ]
  },
  {
   "cell_type": "code",
   "execution_count": null,
   "metadata": {
    "collapsed": false
   },
   "outputs": [],
   "source": [
    "df.iloc[0]"
   ]
  },
  {
   "cell_type": "markdown",
   "metadata": {},
   "source": [
    "### q2 - steamy "
   ]
  },
  {
   "cell_type": "code",
   "execution_count": null,
   "metadata": {
    "collapsed": true
   },
   "outputs": [],
   "source": [
    "What kinds of properties are associated with movies that have high revenues?\n",
    "\n",
    "# Continue to explore the data to address your additional research\n",
    "#   questions. Add more headers as needed if you have more questions to\n",
    "#   investigate.\n"
   ]
  },
  {
   "cell_type": "markdown",
   "metadata": {},
   "source": [
    "<a id='conclusions'></a>\n",
    "## Conclusions\n",
    "\n",
    "> **Tip**: Finally, summarize your findings and the results that have been performed. Make sure that you are clear with regards to the limitations of your exploration. If you haven't done any statistical tests, do not imply any statistical conclusions. And make sure you avoid implying causation from correlation!\n",
    "\n",
    "> **Tip**: Once you are satisfied with your work, you should save a copy of the report in HTML or PDF form via the **File** > **Download as** submenu. Before exporting your report, check over it to make sure that the flow of the report is complete. You should probably remove all of the \"Tip\" quotes like this one so that the presentation is as tidy as possible. Congratulations!"
   ]
  },
  {
   "cell_type": "code",
   "execution_count": null,
   "metadata": {
    "collapsed": true
   },
   "outputs": [],
   "source": []
  }
 ],
 "metadata": {
  "anaconda-cloud": {},
  "kernelspec": {
   "display_name": "Python 2",
   "language": "python",
   "name": "python2"
  },
  "language_info": {
   "codemirror_mode": {
    "name": "ipython",
    "version": 2
   },
   "file_extension": ".py",
   "mimetype": "text/x-python",
   "name": "python",
   "nbconvert_exporter": "python",
   "pygments_lexer": "ipython2",
   "version": "2.7.12"
  }
 },
 "nbformat": 4,
 "nbformat_minor": 2
}
