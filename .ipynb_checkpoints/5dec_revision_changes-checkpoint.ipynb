{
 "cells": [
  {
   "cell_type": "markdown",
   "metadata": {},
   "source": [
    "\n",
    "# Project: Investigate a TMDb (The Movie Database) dataset\n",
    "\n",
    "This data set contains information about 10,000 movies collected from The Movie Database (TMDb), including user ratings and revenue.\n",
    "\n",
    "\n",
    "## Table of Contents\n",
    "<ul>\n",
    "<li><a href=\"#intro\">Introduction</a></li>\n",
    "<li><a href=\"#wrangling\">Data Wrangling</a></li>\n",
    "<li><a href=\"#eda\">Exploratory Data Analysis</a></li>\n",
    "<li><a href=\"#conclusions\">Conclusions</a></li>\n",
    "</ul>"
   ]
  },
  {
   "cell_type": "markdown",
   "metadata": {},
   "source": [
    "<a id='intro'></a>\n",
    "## Introduction\n",
    "\n",
    "\n",
    "\n",
    "This data set contains information of about 10,000 movies, collected from The Movie Databse(TMDb). \n",
    "It contains information regarding the cast, director, production company, release date, revenue, ratings, genre, playtime and more. \n",
    "\n",
    " \n",
    "\n",
    "**Questions for research**\n",
    "- Which are the most popular, and least popular genres based on the number of movies released in 10 year periods from 1960 - 2015\n",
    "- How have the user ratings for popoular genres changed over these periods, keeping in mind the the overall rating of movies falling under the studied genres, in those particular periods. \n",
    "- How have the user ratings for popular genres changed over these periods, keeping in mind the user average user sentiment for that particular genre over 50 years. \n",
    "\n",
    ">Dependent Variable:\n",
    "YEARBINS\n",
    "\n",
    ">a : 1960-1969\n",
    "b : 1970-1979\n",
    "c : 1980-1989\n",
    "d : 1990-1999\n",
    "e : 2000-2009\n",
    "f : 2010-2019\n",
    "\n",
    ">Independent Variables:\n",
    ">Ratings of popular genres over yearbins. \n",
    "\n",
    "\n",
    "\n",
    "\n"
   ]
  },
  {
   "cell_type": "code",
   "execution_count": 1,
   "metadata": {
    "collapsed": true
   },
   "outputs": [],
   "source": [
    "#import statements for packages used\n",
    "\n",
    "import matplotlib.pyplot as plt\n",
    "%matplotlib inline\n",
    "\n",
    "import numpy as np\n",
    "import pandas as pd\n",
    "import seaborn as sns\n",
    "import time\n"
   ]
  },
  {
   "cell_type": "markdown",
   "metadata": {},
   "source": [
    "<a id='wrangling'></a>\n",
    "## Data Wrangling\n",
    "\n",
    "> **Tip**: In this section of the report, you will load in the data, check for cleanliness, and then trim and clean your dataset for analysis. Make sure that you document your steps carefully and justify your cleaning decisions.\n",
    "\n",
    "### General Properties"
   ]
  },
  {
   "cell_type": "code",
   "execution_count": 2,
   "metadata": {
    "collapsed": false,
    "scrolled": true
   },
   "outputs": [
    {
     "name": "stdout",
     "output_type": "stream",
     "text": [
      "       id    imdb_id  popularity     budget     revenue  \\\n",
      "0  135397  tt0369610   32.985763  150000000  1513528810   \n",
      "1   76341  tt1392190   28.419936  150000000   378436354   \n",
      "2  262500  tt2908446   13.112507  110000000   295238201   \n",
      "3  140607  tt2488496   11.173104  200000000  2068178225   \n",
      "4  168259  tt2820852    9.335014  190000000  1506249360   \n",
      "\n",
      "                 original_title  \\\n",
      "0                Jurassic World   \n",
      "1            Mad Max: Fury Road   \n",
      "2                     Insurgent   \n",
      "3  Star Wars: The Force Awakens   \n",
      "4                     Furious 7   \n",
      "\n",
      "                                                cast  \\\n",
      "0  Chris Pratt|Bryce Dallas Howard|Irrfan Khan|Vi...   \n",
      "1  Tom Hardy|Charlize Theron|Hugh Keays-Byrne|Nic...   \n",
      "2  Shailene Woodley|Theo James|Kate Winslet|Ansel...   \n",
      "3  Harrison Ford|Mark Hamill|Carrie Fisher|Adam D...   \n",
      "4  Vin Diesel|Paul Walker|Jason Statham|Michelle ...   \n",
      "\n",
      "                                            homepage          director  \\\n",
      "0                      http://www.jurassicworld.com/   Colin Trevorrow   \n",
      "1                        http://www.madmaxmovie.com/     George Miller   \n",
      "2     http://www.thedivergentseries.movie/#insurgent  Robert Schwentke   \n",
      "3  http://www.starwars.com/films/star-wars-episod...       J.J. Abrams   \n",
      "4                           http://www.furious7.com/         James Wan   \n",
      "\n",
      "                         tagline      ...       \\\n",
      "0              The park is open.      ...        \n",
      "1             What a Lovely Day.      ...        \n",
      "2     One Choice Can Destroy You      ...        \n",
      "3  Every generation has a story.      ...        \n",
      "4            Vengeance Hits Home      ...        \n",
      "\n",
      "                                            overview runtime  \\\n",
      "0  Twenty-two years after the events of Jurassic ...     124   \n",
      "1  An apocalyptic story set in the furthest reach...     120   \n",
      "2  Beatrice Prior must confront her inner demons ...     119   \n",
      "3  Thirty years after defeating the Galactic Empi...     136   \n",
      "4  Deckard Shaw seeks revenge against Dominic Tor...     137   \n",
      "\n",
      "                                      genres  \\\n",
      "0  Action|Adventure|Science Fiction|Thriller   \n",
      "1  Action|Adventure|Science Fiction|Thriller   \n",
      "2         Adventure|Science Fiction|Thriller   \n",
      "3   Action|Adventure|Science Fiction|Fantasy   \n",
      "4                      Action|Crime|Thriller   \n",
      "\n",
      "                                production_companies release_date vote_count  \\\n",
      "0  Universal Studios|Amblin Entertainment|Legenda...       6/9/15       5562   \n",
      "1  Village Roadshow Pictures|Kennedy Miller Produ...      5/13/15       6185   \n",
      "2  Summit Entertainment|Mandeville Films|Red Wago...      3/18/15       2480   \n",
      "3          Lucasfilm|Truenorth Productions|Bad Robot     12/15/15       5292   \n",
      "4  Universal Pictures|Original Film|Media Rights ...       4/1/15       2947   \n",
      "\n",
      "   vote_average  release_year    budget_adj   revenue_adj  \n",
      "0           6.5          2015  1.379999e+08  1.392446e+09  \n",
      "1           7.1          2015  1.379999e+08  3.481613e+08  \n",
      "2           6.3          2015  1.012000e+08  2.716190e+08  \n",
      "3           7.5          2015  1.839999e+08  1.902723e+09  \n",
      "4           7.3          2015  1.747999e+08  1.385749e+09  \n",
      "\n",
      "[5 rows x 21 columns]\n",
      "10866\n"
     ]
    }
   ],
   "source": [
    "#Load Data and print few lines\n",
    "tmdb_df = pd.read_csv('tmdb-movies.csv')\n",
    "print tmdb_df.head()\n",
    "print len(tmdb_df) #1086\n"
   ]
  },
  {
   "cell_type": "markdown",
   "metadata": {},
   "source": [
    "######\n",
    "\n",
    "PLAYTIME\n",
    "\n",
    "######"
   ]
  },
  {
   "cell_type": "code",
   "execution_count": 6,
   "metadata": {
    "collapsed": false
   },
   "outputs": [],
   "source": [
    "df=tmdb_df\n"
   ]
  },
  {
   "cell_type": "code",
   "execution_count": 26,
   "metadata": {
    "collapsed": false
   },
   "outputs": [
    {
     "data": {
      "text/plain": [
       "<bound method Series.unique of 0           {Action, Science Fiction, Adventure, Thriller}\n",
       "1           {Action, Science Fiction, Adventure, Thriller}\n",
       "2                   {Science Fiction, Adventure, Thriller}\n",
       "3            {Action, Science Fiction, Adventure, Fantasy}\n",
       "4                                {Action, Thriller, Crime}\n",
       "5                    {Drama, Western, Thriller, Adventure}\n",
       "6           {Action, Science Fiction, Adventure, Thriller}\n",
       "7                      {Drama, Science Fiction, Adventure}\n",
       "8                   {Comedy, Animation, Adventure, Family}\n",
       "9                              {Comedy, Animation, Family}\n",
       "10                              {Action, Adventure, Crime}\n",
       "11           {Action, Science Fiction, Adventure, Fantasy}\n",
       "12                                {Drama, Science Fiction}\n",
       "13                       {Action, Science Fiction, Comedy}\n",
       "14                    {Action, Science Fiction, Adventure}\n",
       "15                        {Drama, Mystery, Western, Crime}\n",
       "16                               {Action, Thriller, Crime}\n",
       "17                    {Action, Science Fiction, Adventure}\n",
       "18                       {Romance, Fantasy, Drama, Family}\n",
       "19                       {Science Fiction, War, Adventure}\n",
       "20       {Action, Science Fiction, Adventure, Family, M...\n",
       "21                                         {Action, Drama}\n",
       "22                               {Action, Drama, Thriller}\n",
       "23                                        {Drama, Romance}\n",
       "24                                         {Drama, Comedy}\n",
       "25                                                {Action}\n",
       "26                                                {Comedy}\n",
       "27                      {Action, Comedy, Adventure, Crime}\n",
       "28                              {Drama, Thriller, History}\n",
       "29                     {Action, Science Fiction, Thriller}\n",
       "                               ...                        \n",
       "10836                                    {Romance, Comedy}\n",
       "10837                      {Action, Drama, War, Adventure}\n",
       "10838                         {Action, Adventure, Western}\n",
       "10839                                  {Animation, Family}\n",
       "10840                                           {Thriller}\n",
       "10841                                            {Western}\n",
       "10842                                  {Animation, Family}\n",
       "10843             {Drama, Action, History, Adventure, War}\n",
       "10844        {Fantasy, Comedy, Adventure, Science Fiction}\n",
       "10845                                    {Comedy, Western}\n",
       "10846                                             {Horror}\n",
       "10847                            {Science Fiction, Horror}\n",
       "10848                         {Science Fiction, Adventure}\n",
       "10849                              {Action, Comedy, Crime}\n",
       "10850            {Action, Drama, Mystery, Thriller, Crime}\n",
       "10851          {Drama, Action, Adventure, Family, Foreign}\n",
       "10852                                            {Western}\n",
       "10853                             {Drama, Romance, Comedy}\n",
       "10854                             {Drama, Thriller, Crime}\n",
       "10855                   {Mystery, Romance, Comedy, Family}\n",
       "10856                              {Drama, Comedy, Family}\n",
       "10857                                    {Action, Western}\n",
       "10858                                        {Comedy, War}\n",
       "10859          {Mystery, Science Fiction, Drama, Thriller}\n",
       "10860                                             {Comedy}\n",
       "10861                                        {Documentary}\n",
       "10862                           {Action, Drama, Adventure}\n",
       "10863                                    {Mystery, Comedy}\n",
       "10864                                     {Action, Comedy}\n",
       "10865                                             {Horror}\n",
       "Name: genres, dtype: object>"
      ]
     },
     "execution_count": 26,
     "metadata": {},
     "output_type": "execute_result"
    }
   ],
   "source": [
    "\n",
    "def splitstringtoset(string):\n",
    "    newset = set()\n",
    "    if isnan(string):\n",
    "            return string\n",
    "    \n",
    "    else:\n",
    "        for q in [x.strip() for x in string.split('|')]:\n",
    "            newset.add(q)\n",
    "    return newset\n",
    "\n",
    "df.genres.apply(splitstringtoset)"
   ]
  },
  {
   "cell_type": "markdown",
   "metadata": {},
   "source": [
    "######\n",
    "\n",
    "PLAYTIME\n",
    "\n",
    "######"
   ]
  },
  {
   "cell_type": "code",
   "execution_count": null,
   "metadata": {
    "collapsed": false
   },
   "outputs": [],
   "source": [
    "#Operations to inspect data types and look for instances of missing or possibly errant data.\n",
    "df = tmdb_df\n",
    "\n",
    "#Checking for duplicate rows\n",
    "print df[df.duplicated(['id'], keep=False)]  #row 2089 and 2090 have same content . id = 42194\n",
    "\n"
   ]
  },
  {
   "cell_type": "code",
   "execution_count": 23,
   "metadata": {
    "collapsed": true
   },
   "outputs": [],
   "source": [
    "#to check for NaN condition\n",
    "def isnan(f):\n",
    "    return isinstance(f, float) and f!=f\n",
    "\n",
    "def iszero(q):\n",
    "    if isnan(q):\n",
    "        return False\n",
    "    if q ==0:\n",
    "        return True\n",
    "    else:\n",
    "        return False\n",
    "    "
   ]
  },
  {
   "cell_type": "code",
   "execution_count": null,
   "metadata": {
    "collapsed": false
   },
   "outputs": [],
   "source": [
    "#check if vote_average has NaN or 'zero' values\n",
    "\n",
    "assert len(df[df.vote_average.apply(isnan)]) == 0\n",
    "assert len(df[df.vote_average.apply(iszero)]) == 0"
   ]
  },
  {
   "cell_type": "code",
   "execution_count": null,
   "metadata": {
    "collapsed": false
   },
   "outputs": [],
   "source": [
    "#Checking datatype for cast, director, keywords, genres, production companies\n",
    "\n",
    "print type(df['cast'][0])\n",
    "print type(df['director'][0])\n",
    "print type(df['keywords'][0])\n",
    "print type(df['genres'][0])\n",
    "print type(df['production_companies'][0])\n",
    "\n",
    "#printing and seeing\n",
    "print df['genres'][0] # String with '|' as delimiter. \n",
    "\n",
    "#Checking if nans exist in these columns and printing occurences of nans in each column. \n",
    "print len(df[df.cast.apply(isnan)])\n",
    "print len(df[df.director.apply(isnan)])\n",
    "print len(df[df.keywords.apply(isnan)])\n",
    "print len(df[df.genres.apply(isnan)])\n",
    "print len(df[df.production_companies.apply(isnan)])\n",
    "\n"
   ]
  },
  {
   "cell_type": "code",
   "execution_count": null,
   "metadata": {
    "collapsed": false
   },
   "outputs": [],
   "source": [
    "#checking revenue adj and budget adj for zeros and nans\n",
    "\n",
    "print len(df[df.revenue_adj.apply(isnan)]) == 0\n",
    "print len(df[df.budget.apply(isnan)]) == 0\n",
    "\n",
    "print len(df[df.revenue_adj.apply(iszero)])\n",
    "print len(df[df.budget.apply(iszero)])\n"
   ]
  },
  {
   "cell_type": "markdown",
   "metadata": {},
   "source": [
    "We observe that:\n",
    "\n",
    "- The original datafram has a length of 1086 and 21 columns. \n",
    "- Row 2089 and 2090 are repeating. id = 42194.\n",
    "- Cast, director, keywords, genres, production company. These columns have string types, with '|' as delimiter. Some of the column entires are NaN values\n",
    "- Revenue adjusted and budget adjusted have no nans, but have zero values. "
   ]
  },
  {
   "cell_type": "markdown",
   "metadata": {},
   "source": [
    "> **Tip**: You should _not_ perform too many operations in each cell. Create cells freely to explore your data. One option that you can take with this project is to do a lot of explorations in an initial notebook. These don't have to be organized, but make sure you use enough comments to understand the purpose of each code cell. Then, after you're done with your analysis, create a duplicate notebook where you will trim the excess and organize your steps so that you have a flowing, cohesive report.\n",
    "\n",
    "> **Tip**: Make sure that you keep your reader informed on the steps that you are taking in your investigation. Follow every code cell, or every set of related code cells, with a markdown cell to describe to the reader what was found in the preceding cell(s). Try to make it so that the reader can then understand what they will be seeing in the following cell(s).\n",
    "\n",
    "### Data Cleaning (Performing cleaning steps)\n",
    "\n",
    ">- Deleting duplicate row \n",
    ">- Changing Cast, Director, Keywords, Genres, Production Company column values to type set; with each value extracted out from string, and white spaces removed, and added to the set. \n",
    ">-\n",
    "\n",
    "Add yearbin column\n",
    "- a: 1960 - 1969\n",
    "- b: 1970 - 1979\n",
    "- c: 1980 - 1989\n",
    "- d: 1990 - 1999\n",
    "- e: 2000 - 2009\n",
    "- f: 2010 - 2015"
   ]
  },
  {
   "cell_type": "code",
   "execution_count": null,
   "metadata": {
    "collapsed": false
   },
   "outputs": [],
   "source": [
    "# After discussing the structure of the data and any problems that need to be\n",
    "#   cleaned, perform those cleaning steps in the second part of this section.\n",
    "\n",
    "\n",
    "#delete duplicate row\n",
    "#delete 2090\n",
    "df.drop(2090, inplace=True) #row has been deleted.\n",
    "len(df)  #new length - 10865\n"
   ]
  },
  {
   "cell_type": "code",
   "execution_count": 21,
   "metadata": {
    "collapsed": true
   },
   "outputs": [],
   "source": [
    "#cast, director, keywords, genres, production companies --> make into set, with each word extracted and \n",
    "#white spaces dropped\n",
    "    \n",
    "\n",
    "def splitstringtoset(string):\n",
    "    newset = set()\n",
    "    if isnan(string):\n",
    "            return string\n",
    "    \n",
    "    else:\n",
    "        for q in [x.strip() for x in string.split('|')]:\n",
    "            newset.add(q)\n",
    "    return newset"
   ]
  },
  {
   "cell_type": "code",
   "execution_count": null,
   "metadata": {
    "collapsed": false
   },
   "outputs": [],
   "source": [
    "df.cast=df.cast.apply(splitstringtoset)\n",
    "df.director=df.director.apply(splitstringtoset)\n",
    "df.keywords = df.keywords.apply(splitstringtoset)\n",
    "df.genres = df.genres.apply(splitstringtoset)\n",
    "df.production_companies = df.production_companies.apply(splitstringtoset)"
   ]
  },
  {
   "cell_type": "code",
   "execution_count": null,
   "metadata": {
    "collapsed": true
   },
   "outputs": [],
   "source": [
    "#check if release_year has nans\n",
    "assert len(df[df.release_year.apply(isnan)]) == 0 # returned 0rows x 24 columns --> no nan values\n",
    "\n",
    "#new column - year_bin a,b,c,d,e,f \n",
    "def yearbins(year):\n",
    "    \n",
    "    if 1960 <= year <= 1969:\n",
    "        return 'a'\n",
    "    if 1970 <= year <= 1979:\n",
    "        return 'b'\n",
    "    if 1980 <= year <= 1989:\n",
    "        return 'c'\n",
    "    if 1990 <= year <= 1999:\n",
    "        return 'd'\n",
    "    if 2000 <= year <= 2009:\n",
    "        return 'e'\n",
    "    if 2010 <= year <= 2019:\n",
    "        return 'f'\n",
    "\n",
    "df['year_bin']=df.release_year.apply(yearbins)"
   ]
  },
  {
   "cell_type": "code",
   "execution_count": null,
   "metadata": {
    "collapsed": false
   },
   "outputs": [],
   "source": [
    "#Change all zeros to NaN values in profit_adj and revenue_adj\n",
    "df.budget_adj = df.budget_adj.replace(0, np.nan)\n",
    "df.revenue_adj = df.revenue_adj.replace(0, np.nan)\n",
    "\n",
    "#Check if zeros exist\n",
    "\n",
    "print len(df[df.revenue_adj.apply(iszero)])\n",
    "print len(df[df.budget_adj.apply(iszero)])"
   ]
  },
  {
   "cell_type": "code",
   "execution_count": null,
   "metadata": {
    "collapsed": false
   },
   "outputs": [],
   "source": [
    "#add new column - 'profit_adj' : only if revenue_adj and budget_adj ! = 0, should the calc be done\n",
    "#therefore change all zeros to nans\n",
    "\n",
    "df['profit_adj']=df.revenue_adj.sub(df.budget_adj, axis=0)\n",
    "\n",
    "#add new column - 'roi_adj'\n",
    "df['roi_adj']=(df.profit_adj.div(df.budget_adj, axis=0))\n",
    "\n",
    "\n",
    "# replace 0 values with nans in profit_adj and roi_adj\n",
    "df.profit_adj = df.profit_adj.replace(0, np.nan)\n",
    "#df.roi_adj = df.roi_adj.replace(0, np.nan)\n",
    "\n"
   ]
  },
  {
   "cell_type": "markdown",
   "metadata": {},
   "source": [
    "<a id='eda'></a>\n",
    "## Exploratory Data Analysis\n",
    "\n",
    "\n",
    "### Which are the most popular, and least popular genres based on the number of movies in genres appearing in our database from 1960 - 2015"
   ]
  },
  {
   "cell_type": "code",
   "execution_count": null,
   "metadata": {
    "collapsed": false
   },
   "outputs": [],
   "source": [
    "# populate allgenres --> set\n",
    "\n",
    "allgenres=set()\n",
    "\n",
    "def splitset(set):\n",
    "\n",
    "    if(isnan(set)):\n",
    "        pass\n",
    "\n",
    "    else:\n",
    "        for x in set:\n",
    "            allgenres.add(x)\n",
    "            \n",
    "\n",
    " #all genres of movives\n",
    "df.genres.apply(splitset) #populating all genres\n",
    "\n",
    "print allgenres\n",
    "len(allgenres)\n",
    "\n",
    "\n",
    "\n"
   ]
  },
  {
   "cell_type": "code",
   "execution_count": null,
   "metadata": {
    "collapsed": false
   },
   "outputs": [],
   "source": [
    "#Most Popular and Least popular genres,based on total number of movies in them \n",
    "totalcount = {}\n",
    "\n",
    "for i in list(allgenres): #for each genre we are analysing\n",
    "\n",
    "    def ifinset(sett):\n",
    "        if(isnan(sett)):\n",
    "            #print(sett)\n",
    "            return False\n",
    "        for eachgenre in sett:\n",
    "            if eachgenre == i:\n",
    "                return True\n",
    "        return False\n",
    "    totalcount[i] = len(df[df.genres.apply(ifinset)])\n",
    "\n",
    "    \n",
    "#most popular 5 and least popular 5 genres\n",
    "print pd.to_numeric(pd.Series(totalcount.values(), index = totalcount.keys()).sort_values(ascending = False)).nlargest(5)\n",
    "print '\\n'\n",
    "print pd.to_numeric(pd.Series(totalcount.values(), index = totalcount.keys()).sort_values(ascending = False)).nsmallest(5)"
   ]
  },
  {
   "cell_type": "markdown",
   "metadata": {},
   "source": [
    "The most popular genres are Drama, Comedy, Thriller, Action, Romance.\n",
    "The least popular genres are Western, TV Movie, Foreign, War, History"
   ]
  },
  {
   "cell_type": "code",
   "execution_count": null,
   "metadata": {
    "collapsed": false
   },
   "outputs": [],
   "source": [
    "#Taking most popular 7 genres and adding it into a set for analysis \n",
    "\n",
    "genresbeingstudied = set(pd.to_numeric(pd.Series(totalcount.values(), index = totalcount.keys()).\\\n",
    "                                       sort_values(ascending = False)).nlargest(7).index.values)\n",
    "\n",
    "\n",
    "\n",
    "\n",
    "print genresbeingstudied\n"
   ]
  },
  {
   "cell_type": "markdown",
   "metadata": {},
   "source": [
    "### How have the user ratings, and the profits for movies in popoular genres changed over the years, keeping in mind the the overall rating of movies falling under the studied genres, in those particular periods. "
   ]
  },
  {
   "cell_type": "code",
   "execution_count": null,
   "metadata": {
    "collapsed": true
   },
   "outputs": [],
   "source": [
    "#Creating two dataframes. \n",
    "#gyr_df = ratings of each genres, in each of the yearbins\n",
    "\n",
    "index = list(genresbeingstudied)\n",
    "columns = ['a','b','c','d','e','f']\n",
    "gyr_df = pd.DataFrame(index = index, columns=columns)\n",
    "profit_df = pd.DataFrame(index = index, columns=columns)\n",
    "roi_df = pd.DataFrame(index = index, columns=columns)\n"
   ]
  },
  {
   "cell_type": "code",
   "execution_count": null,
   "metadata": {
    "collapsed": false
   },
   "outputs": [],
   "source": [
    "#for gyr_df --> the ratings for genres in each yearbins\n",
    "# we are filling values \n",
    "gb_yearbin= df.groupby('year_bin')\n",
    "\n",
    "for yearbin, yearbin_df in gb_yearbin:\n",
    "    \n",
    "    for i in list(genresbeingstudied): #for each genre we are analysing\n",
    "        \n",
    "        def ifinset(sett):\n",
    "            if(isnan(sett)):\n",
    "                #print(sett)\n",
    "                return False\n",
    "            for eachgenre in sett:\n",
    "                if eachgenre == i:\n",
    "                    return True\n",
    "            return False\n",
    "        \n",
    "        \n",
    "\n",
    "        #filling gyr_df & profit_df\n",
    "        gyr_df.loc[i,yearbin] = np.nanmean(yearbin_df[yearbin_df.genres.apply(ifinset)]['vote_average']) \n",
    "        profit_df.loc[i,yearbin] = np.nanmean(yearbin_df[yearbin_df.genres.apply(ifinset)]['profit_adj'])\n",
    "        roi_df.loc[i,yearbin] = (yearbin_df[yearbin_df.genres.apply(ifinset)]['roi_adj']).mean()\n",
    "        #ratings of genres being studied \n",
    "\n",
    "\n",
    "#roi_df"
   ]
  },
  {
   "cell_type": "code",
   "execution_count": null,
   "metadata": {
    "collapsed": false
   },
   "outputs": [],
   "source": [
    "#Normalize with avg rating of movies from the (genres being studied) in each yearbin -->\n",
    "index = list(genresbeingstudied)\n",
    "columns = ['a','b','c','d','e','f']\n",
    "#genre yearbin rating\n",
    "avg_rating_of_allgenresbeingstudied_in_eachyearbin = pd.Series(index=columns)\n",
    "\n",
    "\n",
    "for yearbin, yearbin_df in gb_yearbin:\n",
    "    \n",
    "   \n",
    "    def ifbeingstudied(set):\n",
    "        if(isnan(set)):\n",
    "            #print(set)\n",
    "            return False\n",
    "        for eachgenre in set:\n",
    "            if eachgenre in genresbeingstudied:\n",
    "                return True\n",
    "        return False\n",
    "        \n",
    "    avg_rating_of_allgenresbeingstudied_in_eachyearbin[yearbin] =\\\n",
    "    np.nanmean(yearbin_df[yearbin_df.genres.apply(ifbeingstudied)]['vote_average'])\n",
    "\n",
    "\n",
    "\n",
    "rating_plot = (gyr_df - avg_rating_of_allgenresbeingstudied_in_eachyearbin).transpose().plot.bar()\n",
    "\n",
    "rating_plot.set(xlabel=\"Year Bins\", ylabel=\"Standardized Ratings\")\n",
    "\n",
    "gyr_plot =gyr_df.transpose().plot()\n",
    "gyr_plot.set(xlabel=\"Year Bins\", ylabel=\"Standardized Ratings\")"
   ]
  },
  {
   "cell_type": "code",
   "execution_count": null,
   "metadata": {
    "collapsed": false
   },
   "outputs": [],
   "source": [
    "#Plotting for profit_adj \n",
    "\n",
    "profit_plot = profit_df.transpose().plot()\n",
    "profit_plot.set(xlabel='Year Bins', ylabel='Profit * 10^8')\n"
   ]
  },
  {
   "cell_type": "markdown",
   "metadata": {},
   "source": [
    "We see that profits for adventure has almost always been higher than the others. Aventure movie profits are on the rise "
   ]
  },
  {
   "cell_type": "markdown",
   "metadata": {},
   "source": [
    "***How have the user ratings for popular genres changed over these periods, keeping in mind the user average user sentiment for that particular genre over 50 years***\n"
   ]
  },
  {
   "cell_type": "code",
   "execution_count": null,
   "metadata": {
    "collapsed": false
   },
   "outputs": [],
   "source": [
    "#find average rating of the genresbeingstudied from 1960 - 2015\n",
    "\n",
    "\n",
    "avg_rating_of_genresbeingstudied_dict = {}\n",
    "\n",
    "for i in list(genresbeingstudied):\n",
    "    #print i\n",
    "    \n",
    "    def ifinset(sett):\n",
    "            if(isnan(sett)):\n",
    "                #print(sett)\n",
    "                return False\n",
    "            for eachgenre in sett:\n",
    "                if eachgenre == i:\n",
    "                    return True\n",
    "            return False\n",
    "    \n",
    "    avg_rating_of_genresbeingstudied_dict[i]=(np.nanmean(df[df.genres.apply(ifinset)]['vote_average']))\n",
    "    \n",
    "\n",
    "\n",
    "#putting into Series\n",
    "\n",
    "avg_rating_of_genresbeingstudied_series = pd.Series(avg_rating_of_genresbeingstudied_dict.values(), index = avg_rating_of_genresbeingstudied_dict.keys())\n",
    "avg_rating_of_genresbeingstudied_series"
   ]
  },
  {
   "cell_type": "code",
   "execution_count": null,
   "metadata": {
    "collapsed": false
   },
   "outputs": [],
   "source": [
    "\n",
    "stdrating_plot =gyr_df.loc[list(genresbeingstudied)].sub(avg_rating_of_genresbeingstudied_series, axis =0).transpose().plot()\n",
    "stdrating_plot.set(xlabel='Year Bins', ylabel='Profit * 10^8')\n",
    "\n",
    "#This is after the avg rating of each genres has been normallized with all ratings of that genre across all years"
   ]
  },
  {
   "cell_type": "markdown",
   "metadata": {},
   "source": [
    "We see that Romance comedy and adventure have been rising over the last 20 years. "
   ]
  },
  {
   "cell_type": "markdown",
   "metadata": {},
   "source": [
    "<a id='conclusions'></a>\n",
    "## Conclusions\n"
   ]
  },
  {
   "cell_type": "markdown",
   "metadata": {
    "collapsed": true
   },
   "source": [
    "We see that the most popular genres according to movies appearing in the database are : \n",
    "Drama Comedy Thriller Action and Romance.\n",
    "The least popular being : Western, TV Movie, and Foreign. \n",
    "\n",
    "We see that over the years, rating for horror movies have been on a constant decline.\n",
    "Adventure, Comedy and Romance movies' ratings have been on the rise from 1990   \n",
    "\n",
    "\n",
    "We see that profit for adventure movies are always tend to stand out from the rest. Also in the last 20 years, profits for adventure movies have been climbing. \n",
    "\n",
    "Clearly, adventure seems to be the top most genre according to popularity, earnings and recent growth. "
   ]
  }
 ],
 "metadata": {
  "anaconda-cloud": {},
  "kernelspec": {
   "display_name": "Python 2",
   "language": "python",
   "name": "python2"
  },
  "language_info": {
   "codemirror_mode": {
    "name": "ipython",
    "version": 2
   },
   "file_extension": ".py",
   "mimetype": "text/x-python",
   "name": "python",
   "nbconvert_exporter": "python",
   "pygments_lexer": "ipython2",
   "version": "2.7.12"
  }
 },
 "nbformat": 4,
 "nbformat_minor": 2
}
