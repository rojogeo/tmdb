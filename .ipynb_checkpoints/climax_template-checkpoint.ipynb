{
 "cells": [
  {
   "cell_type": "markdown",
   "metadata": {},
   "source": [
    "\n",
    "# Project: Investigate a TMDb (The Movie Database) dataset\n",
    "\n",
    "This data set contains information about 10,000 movies collected from The Movie Database (TMDb), including user ratings and revenue.\n",
    "\n",
    "\n",
    "## Table of Contents\n",
    "<ul>\n",
    "<li><a href=\"#intro\">Introduction</a></li>\n",
    "<li><a href=\"#wrangling\">Data Wrangling</a></li>\n",
    "<li><a href=\"#eda\">Exploratory Data Analysis</a></li>\n",
    "<li><a href=\"#conclusions\">Conclusions</a></li>\n",
    "</ul>"
   ]
  },
  {
   "cell_type": "markdown",
   "metadata": {},
   "source": [
    "<a id='intro'></a>\n",
    "## Introduction\n",
    "\n",
    "\n",
    "\n",
    "This data set contains information of about 10,000 movies, collected from The Movie Databse(TMDb). \n",
    "It contains information regarding the cast, director, production company, release date, revenue, ratings, genre, playtime and more. \n",
    "\n",
    " \n",
    "\n",
    "**Questions for research**\n",
    "- Which are the most popular, and least popular genres based on the number of movies released in 10 year periods from 1960 - 2015\n",
    "- How have the user ratings for popoular genres changed over these periods, keeping in mind the the overall rating of movies falling under the studied genres, in those particular periods. \n",
    "- How have the user ratings for popular genres changed over these periods, keeping in mind the user average user sentiment for that particular genre over 50 years. \n",
    "\n",
    ">Dependent Variable:\n",
    "YEARBINS\n",
    "\n",
    ">a : 1960-1969\n",
    "b : 1970-1979\n",
    "c : 1980-1989\n",
    "d : 1990-1999\n",
    "e : 2000-2009\n",
    "f : 2010-2019\n",
    "\n",
    ">Independent Variables:\n",
    ">Ratings of popular genres over yearbins. \n",
    "\n",
    "\n",
    "\n",
    "\n"
   ]
  },
  {
   "cell_type": "code",
   "execution_count": 1,
   "metadata": {
    "collapsed": true
   },
   "outputs": [],
   "source": [
    "#import statements for packages used\n",
    "\n",
    "import matplotlib.pyplot as plt\n",
    "%matplotlib inline\n",
    "\n",
    "import numpy as np\n",
    "import pandas as pd\n",
    "import seaborn as sns\n",
    "import time\n"
   ]
  },
  {
   "cell_type": "markdown",
   "metadata": {},
   "source": [
    "<a id='wrangling'></a>\n",
    "## Data Wrangling\n",
    "\n",
    "> **Tip**: In this section of the report, you will load in the data, check for cleanliness, and then trim and clean your dataset for analysis. Make sure that you document your steps carefully and justify your cleaning decisions.\n",
    "\n",
    "### General Properties"
   ]
  },
  {
   "cell_type": "code",
   "execution_count": 2,
   "metadata": {
    "collapsed": false,
    "scrolled": true
   },
   "outputs": [
    {
     "name": "stdout",
     "output_type": "stream",
     "text": [
      "       id    imdb_id  popularity     budget     revenue  \\\n",
      "0  135397  tt0369610   32.985763  150000000  1513528810   \n",
      "1   76341  tt1392190   28.419936  150000000   378436354   \n",
      "2  262500  tt2908446   13.112507  110000000   295238201   \n",
      "3  140607  tt2488496   11.173104  200000000  2068178225   \n",
      "4  168259  tt2820852    9.335014  190000000  1506249360   \n",
      "\n",
      "                 original_title  \\\n",
      "0                Jurassic World   \n",
      "1            Mad Max: Fury Road   \n",
      "2                     Insurgent   \n",
      "3  Star Wars: The Force Awakens   \n",
      "4                     Furious 7   \n",
      "\n",
      "                                                cast  \\\n",
      "0  Chris Pratt|Bryce Dallas Howard|Irrfan Khan|Vi...   \n",
      "1  Tom Hardy|Charlize Theron|Hugh Keays-Byrne|Nic...   \n",
      "2  Shailene Woodley|Theo James|Kate Winslet|Ansel...   \n",
      "3  Harrison Ford|Mark Hamill|Carrie Fisher|Adam D...   \n",
      "4  Vin Diesel|Paul Walker|Jason Statham|Michelle ...   \n",
      "\n",
      "                                            homepage          director  \\\n",
      "0                      http://www.jurassicworld.com/   Colin Trevorrow   \n",
      "1                        http://www.madmaxmovie.com/     George Miller   \n",
      "2     http://www.thedivergentseries.movie/#insurgent  Robert Schwentke   \n",
      "3  http://www.starwars.com/films/star-wars-episod...       J.J. Abrams   \n",
      "4                           http://www.furious7.com/         James Wan   \n",
      "\n",
      "                         tagline      ...       \\\n",
      "0              The park is open.      ...        \n",
      "1             What a Lovely Day.      ...        \n",
      "2     One Choice Can Destroy You      ...        \n",
      "3  Every generation has a story.      ...        \n",
      "4            Vengeance Hits Home      ...        \n",
      "\n",
      "                                            overview runtime  \\\n",
      "0  Twenty-two years after the events of Jurassic ...     124   \n",
      "1  An apocalyptic story set in the furthest reach...     120   \n",
      "2  Beatrice Prior must confront her inner demons ...     119   \n",
      "3  Thirty years after defeating the Galactic Empi...     136   \n",
      "4  Deckard Shaw seeks revenge against Dominic Tor...     137   \n",
      "\n",
      "                                      genres  \\\n",
      "0  Action|Adventure|Science Fiction|Thriller   \n",
      "1  Action|Adventure|Science Fiction|Thriller   \n",
      "2         Adventure|Science Fiction|Thriller   \n",
      "3   Action|Adventure|Science Fiction|Fantasy   \n",
      "4                      Action|Crime|Thriller   \n",
      "\n",
      "                                production_companies release_date vote_count  \\\n",
      "0  Universal Studios|Amblin Entertainment|Legenda...       6/9/15       5562   \n",
      "1  Village Roadshow Pictures|Kennedy Miller Produ...      5/13/15       6185   \n",
      "2  Summit Entertainment|Mandeville Films|Red Wago...      3/18/15       2480   \n",
      "3          Lucasfilm|Truenorth Productions|Bad Robot     12/15/15       5292   \n",
      "4  Universal Pictures|Original Film|Media Rights ...       4/1/15       2947   \n",
      "\n",
      "   vote_average  release_year    budget_adj   revenue_adj  \n",
      "0           6.5          2015  1.379999e+08  1.392446e+09  \n",
      "1           7.1          2015  1.379999e+08  3.481613e+08  \n",
      "2           6.3          2015  1.012000e+08  2.716190e+08  \n",
      "3           7.5          2015  1.839999e+08  1.902723e+09  \n",
      "4           7.3          2015  1.747999e+08  1.385749e+09  \n",
      "\n",
      "[5 rows x 21 columns]\n",
      "10866\n"
     ]
    }
   ],
   "source": [
    "#Load Data and print few lines\n",
    "tmdb_df = pd.read_csv('tmdb-movies.csv')\n",
    "print tmdb_df.head()\n",
    "print len(tmdb_df) #1086\n"
   ]
  },
  {
   "cell_type": "markdown",
   "metadata": {},
   "source": [
    "######\n",
    "\n",
    "PLAYTIME\n",
    "\n",
    "######"
   ]
  },
  {
   "cell_type": "code",
   "execution_count": 6,
   "metadata": {
    "collapsed": false
   },
   "outputs": [],
   "source": [
    "df=tmdb_df\n"
   ]
  },
  {
   "cell_type": "code",
   "execution_count": 96,
   "metadata": {
    "collapsed": false
   },
   "outputs": [],
   "source": [
    "s = df['genres'].str.split('|').apply(pd.Series, 1).stack()"
   ]
  },
  {
   "cell_type": "code",
   "execution_count": null,
   "metadata": {
    "collapsed": true
   },
   "outputs": [],
   "source": [
    "s.index = s.index.droplevel(-1)"
   ]
  },
  {
   "cell_type": "code",
   "execution_count": 107,
   "metadata": {
    "collapsed": true
   },
   "outputs": [],
   "source": [
    "#del df['genres']"
   ]
  },
  {
   "cell_type": "code",
   "execution_count": 109,
   "metadata": {
    "collapsed": false
   },
   "outputs": [],
   "source": [
    "\n",
    "newdf = df.join(s)"
   ]
  },
  {
   "cell_type": "code",
   "execution_count": 122,
   "metadata": {
    "collapsed": false
   },
   "outputs": [
    {
     "data": {
      "text/plain": [
       "count     26960\n",
       "unique       20\n",
       "top       Drama\n",
       "freq       4761\n",
       "Name: genres, dtype: object"
      ]
     },
     "execution_count": 122,
     "metadata": {},
     "output_type": "execute_result"
    }
   ],
   "source": [
    "newdf.genres.describe()"
   ]
  },
  {
   "cell_type": "code",
   "execution_count": 124,
   "metadata": {
    "collapsed": false
   },
   "outputs": [
    {
     "data": {
      "text/plain": [
       "Drama              4761\n",
       "Comedy             3793\n",
       "Thriller           2908\n",
       "Action             2385\n",
       "Romance            1712\n",
       "Horror             1637\n",
       "Adventure          1471\n",
       "Crime              1355\n",
       "Family             1231\n",
       "Science Fiction    1230\n",
       "Fantasy             916\n",
       "Mystery             810\n",
       "Animation           699\n",
       "Documentary         520\n",
       "Music               408\n",
       "History             334\n",
       "War                 270\n",
       "Foreign             188\n",
       "TV Movie            167\n",
       "Western             165\n",
       "Name: genres, dtype: int64"
      ]
     },
     "execution_count": 124,
     "metadata": {},
     "output_type": "execute_result"
    }
   ],
   "source": [
    "newdf.genres.value_counts()"
   ]
  },
  {
   "cell_type": "code",
   "execution_count": 125,
   "metadata": {
    "collapsed": false
   },
   "outputs": [
    {
     "data": {
      "text/plain": [
       "Drama              0.176595\n",
       "Comedy             0.140690\n",
       "Thriller           0.107864\n",
       "Action             0.088464\n",
       "Romance            0.063501\n",
       "Horror             0.060720\n",
       "Adventure          0.054562\n",
       "Crime              0.050260\n",
       "Family             0.045660\n",
       "Science Fiction    0.045623\n",
       "Fantasy            0.033976\n",
       "Mystery            0.030045\n",
       "Animation          0.025927\n",
       "Documentary        0.019288\n",
       "Music              0.015134\n",
       "History            0.012389\n",
       "War                0.010015\n",
       "Foreign            0.006973\n",
       "TV Movie           0.006194\n",
       "Western            0.006120\n",
       "Name: genres, dtype: float64"
      ]
     },
     "execution_count": 125,
     "metadata": {},
     "output_type": "execute_result"
    }
   ],
   "source": [
    "newdf.genres.value_counts(normalize=True)"
   ]
  },
  {
   "cell_type": "code",
   "execution_count": 128,
   "metadata": {
    "collapsed": false
   },
   "outputs": [
    {
     "data": {
      "text/plain": [
       "<matplotlib.axes._subplots.AxesSubplot at 0x127e3048>"
      ]
     },
     "execution_count": 128,
     "metadata": {},
     "output_type": "execute_result"
    },
    {
     "data": {
      "image/png": "[encoded data removed]",
      "text/plain": [
       "<matplotlib.figure.Figure at 0xf6751d0>"
      ]
     },
     "metadata": {},
     "output_type": "display_data"
    }
   ],
   "source": [
    "newdf.genres.value_counts().plot(kind='bar')"
   ]
  },
  {
   "cell_type": "markdown",
   "metadata": {},
   "source": [
    "######\n",
    "\n",
    "PLAYTIME\n",
    "\n",
    "######"
   ]
  },
  {
   "cell_type": "code",
   "execution_count": null,
   "metadata": {
    "collapsed": false
   },
   "outputs": [],
   "source": [
    "#Operations to inspect data types and look for instances of missing or possibly errant data.\n",
    "df = tmdb_df\n",
    "\n",
    "#Checking for duplicate rows\n",
    "print df[df.duplicated(['id'], keep=False)]  #row 2089 and 2090 have same content . id = 42194\n",
    "\n"
   ]
  },
  {
   "cell_type": "code",
   "execution_count": 23,
   "metadata": {
    "collapsed": true
   },
   "outputs": [],
   "source": [
    "#to check for NaN condition\n",
    "def isnan(f):\n",
    "    return isinstance(f, float) and f!=f\n",
    "\n",
    "def iszero(q):\n",
    "    if isnan(q):\n",
    "        return False\n",
    "    if q ==0:\n",
    "        return True\n",
    "    else:\n",
    "        return False\n",
    "    "
   ]
  },
  {
   "cell_type": "code",
   "execution_count": null,
   "metadata": {
    "collapsed": false
   },
   "outputs": [],
   "source": [
    "#check if vote_average has NaN or 'zero' values\n",
    "\n",
    "assert len(df[df.vote_average.apply(isnan)]) == 0\n",
    "assert len(df[df.vote_average.apply(iszero)]) == 0"
   ]
  },
  {
   "cell_type": "code",
   "execution_count": null,
   "metadata": {
    "collapsed": false
   },
   "outputs": [],
   "source": [
    "#Checking datatype for cast, director, keywords, genres, production companies\n",
    "\n",
    "print type(df['cast'][0])\n",
    "print type(df['director'][0])\n",
    "print type(df['keywords'][0])\n",
    "print type(df['genres'][0])\n",
    "print type(df['production_companies'][0])\n",
    "\n",
    "#printing and seeing\n",
    "print df['genres'][0] # String with '|' as delimiter. \n",
    "\n",
    "#Checking if nans exist in these columns and printing occurences of nans in each column. \n",
    "print len(df[df.cast.apply(isnan)])\n",
    "print len(df[df.director.apply(isnan)])\n",
    "print len(df[df.keywords.apply(isnan)])\n",
    "print len(df[df.genres.apply(isnan)])\n",
    "print len(df[df.production_companies.apply(isnan)])\n",
    "\n"
   ]
  },
  {
   "cell_type": "code",
   "execution_count": null,
   "metadata": {
    "collapsed": false
   },
   "outputs": [],
   "source": [
    "#checking revenue adj and budget adj for zeros and nans\n",
    "\n",
    "print len(df[df.revenue_adj.apply(isnan)]) == 0\n",
    "print len(df[df.budget.apply(isnan)]) == 0\n",
    "\n",
    "print len(df[df.revenue_adj.apply(iszero)])\n",
    "print len(df[df.budget.apply(iszero)])\n"
   ]
  },
  {
   "cell_type": "markdown",
   "metadata": {},
   "source": [
    "We observe that:\n",
    "\n",
    "- The original datafram has a length of 1086 and 21 columns. \n",
    "- Row 2089 and 2090 are repeating. id = 42194.\n",
    "- Cast, director, keywords, genres, production company. These columns have string types, with '|' as delimiter. Some of the column entires are NaN values\n",
    "- Revenue adjusted and budget adjusted have no nans, but have zero values. "
   ]
  },
  {
   "cell_type": "markdown",
   "metadata": {},
   "source": [
    "> **Tip**: You should _not_ perform too many operations in each cell. Create cells freely to explore your data. One option that you can take with this project is to do a lot of explorations in an initial notebook. These don't have to be organized, but make sure you use enough comments to understand the purpose of each code cell. Then, after you're done with your analysis, create a duplicate notebook where you will trim the excess and organize your steps so that you have a flowing, cohesive report.\n",
    "\n",
    "> **Tip**: Make sure that you keep your reader informed on the steps that you are taking in your investigation. Follow every code cell, or every set of related code cells, with a markdown cell to describe to the reader what was found in the preceding cell(s). Try to make it so that the reader can then understand what they will be seeing in the following cell(s).\n",
    "\n",
    "### Data Cleaning (Performing cleaning steps)\n",
    "\n",
    ">- Deleting duplicate row \n",
    ">- Changing Cast, Director, Keywords, Genres, Production Company column values to type set; with each value extracted out from string, and white spaces removed, and added to the set. \n",
    ">-\n",
    "\n",
    "Add yearbin column\n",
    "- a: 1960 - 1969\n",
    "- b: 1970 - 1979\n",
    "- c: 1980 - 1989\n",
    "- d: 1990 - 1999\n",
    "- e: 2000 - 2009\n",
    "- f: 2010 - 2015"
   ]
  },
  {
   "cell_type": "code",
   "execution_count": null,
   "metadata": {
    "collapsed": false
   },
   "outputs": [],
   "source": [
    "# After discussing the structure of the data and any problems that need to be\n",
    "#   cleaned, perform those cleaning steps in the second part of this section.\n",
    "\n",
    "\n",
    "#delete duplicate row\n",
    "#delete 2090\n",
    "df.drop(2090, inplace=True) #row has been deleted.\n",
    "len(df)  #new length - 10865\n"
   ]
  },
  {
   "cell_type": "code",
   "execution_count": 21,
   "metadata": {
    "collapsed": true
   },
   "outputs": [],
   "source": [
    "#cast, director, keywords, genres, production companies --> make into set, with each word extracted and \n",
    "#white spaces dropped\n",
    "    \n",
    "\n",
    "def splitstringtoset(string):\n",
    "    newset = set()\n",
    "    if isnan(string):\n",
    "            return string\n",
    "    \n",
    "    else:\n",
    "        for q in [x.strip() for x in string.split('|')]:\n",
    "            newset.add(q)\n",
    "    return newset"
   ]
  },
  {
   "cell_type": "code",
   "execution_count": null,
   "metadata": {
    "collapsed": false
   },
   "outputs": [],
   "source": [
    "df.cast=df.cast.apply(splitstringtoset)\n",
    "df.director=df.director.apply(splitstringtoset)\n",
    "df.keywords = df.keywords.apply(splitstringtoset)\n",
    "df.genres = df.genres.apply(splitstringtoset)\n",
    "df.production_companies = df.production_companies.apply(splitstringtoset)"
   ]
  },
  {
   "cell_type": "code",
   "execution_count": 134,
   "metadata": {
    "collapsed": true
   },
   "outputs": [],
   "source": [
    "#check if release_year has nans\n",
    "assert len(df[df.release_year.apply(isnan)]) == 0 # returned 0rows x 24 columns --> no nan values\n",
    "\n",
    "#new column - year_bin a,b,c,d,e,f \n",
    "def yearbins(year):\n",
    "    \n",
    "    if 1960 <= year <= 1969:\n",
    "        return 'a'\n",
    "    if 1970 <= year <= 1979:\n",
    "        return 'b'\n",
    "    if 1980 <= year <= 1989:\n",
    "        return 'c'\n",
    "    if 1990 <= year <= 1999:\n",
    "        return 'd'\n",
    "    if 2000 <= year <= 2009:\n",
    "        return 'e'\n",
    "    if 2010 <= year <= 2019:\n",
    "        return 'f'\n",
    "\n",
    "newdf['year_bin']=newdf.release_year.apply(yearbins)"
   ]
  },
  {
   "cell_type": "code",
   "execution_count": null,
   "metadata": {
    "collapsed": false
   },
   "outputs": [],
   "source": [
    "#Change all zeros to NaN values in profit_adj and revenue_adj\n",
    "df.budget_adj = df.budget_adj.replace(0, np.nan)\n",
    "df.revenue_adj = df.revenue_adj.replace(0, np.nan)\n",
    "\n",
    "#Check if zeros exist\n",
    "\n",
    "print len(df[df.revenue_adj.apply(iszero)])\n",
    "print len(df[df.budget_adj.apply(iszero)])"
   ]
  },
  {
   "cell_type": "code",
   "execution_count": null,
   "metadata": {
    "collapsed": false
   },
   "outputs": [],
   "source": [
    "#add new column - 'profit_adj' : only if revenue_adj and budget_adj ! = 0, should the calc be done\n",
    "#therefore change all zeros to nans\n",
    "\n",
    "df['profit_adj']=df.revenue_adj.sub(df.budget_adj, axis=0)\n",
    "\n",
    "#add new column - 'roi_adj'\n",
    "df['roi_adj']=(df.profit_adj.div(df.budget_adj, axis=0))\n",
    "\n",
    "\n",
    "# replace 0 values with nans in profit_adj and roi_adj\n",
    "df.profit_adj = df.profit_adj.replace(0, np.nan)\n",
    "#df.roi_adj = df.roi_adj.replace(0, np.nan)\n",
    "\n"
   ]
  },
  {
   "cell_type": "markdown",
   "metadata": {},
   "source": [
    "<a id='eda'></a>\n",
    "## Exploratory Data Analysis\n",
    "\n",
    "\n",
    "### Which are the most popular, and least popular genres based on the number of movies in genres appearing in our database from 1960 - 2015"
   ]
  },
  {
   "cell_type": "markdown",
   "metadata": {},
   "source": [
    "The most popular genres are Drama, Comedy, Thriller, Action, Romance.\n",
    "The least popular genres are Western, TV Movie, Foreign, War, History"
   ]
  },
  {
   "cell_type": "markdown",
   "metadata": {},
   "source": [
    "### How have the user ratings, and the profits for movies in popoular genres changed over the years, keeping in mind the the overall rating of movies falling under the studied genres, in those particular periods. "
   ]
  },
  {
   "cell_type": "code",
   "execution_count": 133,
   "metadata": {
    "collapsed": false
   },
   "outputs": [
    {
     "name": "stdout",
     "output_type": "stream",
     "text": [
      "genres\n",
      "Action             5.787421\n",
      "Adventure          5.940585\n",
      "Animation          6.403147\n",
      "Comedy             5.905167\n",
      "Crime              6.124059\n",
      "Documentary        6.908462\n",
      "Drama              6.165301\n",
      "Family             5.997563\n",
      "Fantasy            5.863537\n",
      "Foreign            5.981383\n",
      "History            6.410479\n",
      "Horror             5.337447\n",
      "Music              6.480392\n",
      "Mystery            5.946790\n",
      "Romance            6.042874\n",
      "Science Fiction    5.665041\n",
      "TV Movie           5.788024\n",
      "Thriller           5.750413\n",
      "War                6.297778\n",
      "Western            6.083030\n",
      "Name: vote_average, dtype: float64\n"
     ]
    }
   ],
   "source": [
    "gb_genres = newdf.groupby('genres')['vote_average'].mean()\n",
    "print gb_genres"
   ]
  },
  {
   "cell_type": "code",
   "execution_count": 161,
   "metadata": {
    "collapsed": false
   },
   "outputs": [
    {
     "data": {
      "text/html": [
       "<div>\n",
       "<table border=\"1\" class=\"dataframe\">\n",
       "  <thead>\n",
       "    <tr style=\"text-align: right;\">\n",
       "      <th>year_bin</th>\n",
       "      <th>a</th>\n",
       "      <th>b</th>\n",
       "      <th>c</th>\n",
       "      <th>d</th>\n",
       "      <th>e</th>\n",
       "      <th>f</th>\n",
       "    </tr>\n",
       "    <tr>\n",
       "      <th>genres</th>\n",
       "      <th></th>\n",
       "      <th></th>\n",
       "      <th></th>\n",
       "      <th></th>\n",
       "      <th></th>\n",
       "      <th></th>\n",
       "    </tr>\n",
       "  </thead>\n",
       "  <tbody>\n",
       "    <tr>\n",
       "      <th>Action</th>\n",
       "      <td>6.042308</td>\n",
       "      <td>6.371074</td>\n",
       "      <td>5.931985</td>\n",
       "      <td>5.776703</td>\n",
       "      <td>5.744615</td>\n",
       "      <td>5.652577</td>\n",
       "    </tr>\n",
       "    <tr>\n",
       "      <th>Adventure</th>\n",
       "      <td>6.250000</td>\n",
       "      <td>6.320779</td>\n",
       "      <td>6.048000</td>\n",
       "      <td>5.816364</td>\n",
       "      <td>5.829842</td>\n",
       "      <td>6.000267</td>\n",
       "    </tr>\n",
       "    <tr>\n",
       "      <th>Animation</th>\n",
       "      <td>6.531250</td>\n",
       "      <td>6.464706</td>\n",
       "      <td>6.705263</td>\n",
       "      <td>6.379747</td>\n",
       "      <td>6.298311</td>\n",
       "      <td>6.475494</td>\n",
       "    </tr>\n",
       "    <tr>\n",
       "      <th>Comedy</th>\n",
       "      <td>6.153982</td>\n",
       "      <td>6.411475</td>\n",
       "      <td>6.021729</td>\n",
       "      <td>5.913026</td>\n",
       "      <td>5.779099</td>\n",
       "      <td>5.929355</td>\n",
       "    </tr>\n",
       "    <tr>\n",
       "      <th>Crime</th>\n",
       "      <td>6.444186</td>\n",
       "      <td>6.671084</td>\n",
       "      <td>6.151634</td>\n",
       "      <td>6.264444</td>\n",
       "      <td>6.084764</td>\n",
       "      <td>5.880000</td>\n",
       "    </tr>\n",
       "    <tr>\n",
       "      <th>Documentary</th>\n",
       "      <td>7.150000</td>\n",
       "      <td>6.784615</td>\n",
       "      <td>7.176923</td>\n",
       "      <td>7.021739</td>\n",
       "      <td>6.825000</td>\n",
       "      <td>6.930154</td>\n",
       "    </tr>\n",
       "    <tr>\n",
       "      <th>Drama</th>\n",
       "      <td>6.370833</td>\n",
       "      <td>6.512552</td>\n",
       "      <td>6.256974</td>\n",
       "      <td>6.221810</td>\n",
       "      <td>6.124396</td>\n",
       "      <td>6.069739</td>\n",
       "    </tr>\n",
       "    <tr>\n",
       "      <th>Family</th>\n",
       "      <td>6.407692</td>\n",
       "      <td>6.428205</td>\n",
       "      <td>6.360952</td>\n",
       "      <td>5.808791</td>\n",
       "      <td>5.864968</td>\n",
       "      <td>6.139145</td>\n",
       "    </tr>\n",
       "    <tr>\n",
       "      <th>Fantasy</th>\n",
       "      <td>5.817391</td>\n",
       "      <td>6.123333</td>\n",
       "      <td>5.965854</td>\n",
       "      <td>5.788830</td>\n",
       "      <td>5.815313</td>\n",
       "      <td>5.907328</td>\n",
       "    </tr>\n",
       "    <tr>\n",
       "      <th>Foreign</th>\n",
       "      <td>6.188889</td>\n",
       "      <td>6.566667</td>\n",
       "      <td>6.050000</td>\n",
       "      <td>5.931250</td>\n",
       "      <td>5.973786</td>\n",
       "      <td>5.927273</td>\n",
       "    </tr>\n",
       "    <tr>\n",
       "      <th>History</th>\n",
       "      <td>6.293548</td>\n",
       "      <td>6.417391</td>\n",
       "      <td>6.584848</td>\n",
       "      <td>6.369811</td>\n",
       "      <td>6.372174</td>\n",
       "      <td>6.464557</td>\n",
       "    </tr>\n",
       "    <tr>\n",
       "      <th>Horror</th>\n",
       "      <td>6.068085</td>\n",
       "      <td>6.090385</td>\n",
       "      <td>5.764706</td>\n",
       "      <td>5.469841</td>\n",
       "      <td>5.257851</td>\n",
       "      <td>5.010473</td>\n",
       "    </tr>\n",
       "    <tr>\n",
       "      <th>Music</th>\n",
       "      <td>6.219048</td>\n",
       "      <td>6.648000</td>\n",
       "      <td>6.476923</td>\n",
       "      <td>6.346939</td>\n",
       "      <td>6.379339</td>\n",
       "      <td>6.625000</td>\n",
       "    </tr>\n",
       "    <tr>\n",
       "      <th>Mystery</th>\n",
       "      <td>6.387500</td>\n",
       "      <td>6.439286</td>\n",
       "      <td>6.127778</td>\n",
       "      <td>6.118919</td>\n",
       "      <td>5.844170</td>\n",
       "      <td>5.713242</td>\n",
       "    </tr>\n",
       "    <tr>\n",
       "      <th>Romance</th>\n",
       "      <td>6.176119</td>\n",
       "      <td>6.380392</td>\n",
       "      <td>6.072571</td>\n",
       "      <td>6.073021</td>\n",
       "      <td>5.941390</td>\n",
       "      <td>6.093708</td>\n",
       "    </tr>\n",
       "    <tr>\n",
       "      <th>Science Fiction</th>\n",
       "      <td>6.011765</td>\n",
       "      <td>5.927273</td>\n",
       "      <td>5.831977</td>\n",
       "      <td>5.520853</td>\n",
       "      <td>5.664420</td>\n",
       "      <td>5.582740</td>\n",
       "    </tr>\n",
       "    <tr>\n",
       "      <th>TV Movie</th>\n",
       "      <td>7.150000</td>\n",
       "      <td>5.437500</td>\n",
       "      <td>6.122222</td>\n",
       "      <td>5.610526</td>\n",
       "      <td>5.662264</td>\n",
       "      <td>5.881579</td>\n",
       "    </tr>\n",
       "    <tr>\n",
       "      <th>Thriller</th>\n",
       "      <td>6.328125</td>\n",
       "      <td>6.347973</td>\n",
       "      <td>5.995385</td>\n",
       "      <td>5.895960</td>\n",
       "      <td>5.719692</td>\n",
       "      <td>5.511077</td>\n",
       "    </tr>\n",
       "    <tr>\n",
       "      <th>War</th>\n",
       "      <td>6.229032</td>\n",
       "      <td>6.408000</td>\n",
       "      <td>6.290625</td>\n",
       "      <td>6.317241</td>\n",
       "      <td>6.292045</td>\n",
       "      <td>6.290769</td>\n",
       "    </tr>\n",
       "    <tr>\n",
       "      <th>Western</th>\n",
       "      <td>6.083333</td>\n",
       "      <td>6.416667</td>\n",
       "      <td>6.028571</td>\n",
       "      <td>6.012000</td>\n",
       "      <td>5.803846</td>\n",
       "      <td>6.003571</td>\n",
       "    </tr>\n",
       "  </tbody>\n",
       "</table>\n",
       "</div>"
      ],
      "text/plain": [
       "year_bin                a         b         c         d         e         f\n",
       "genres                                                                     \n",
       "Action           6.042308  6.371074  5.931985  5.776703  5.744615  5.652577\n",
       "Adventure        6.250000  6.320779  6.048000  5.816364  5.829842  6.000267\n",
       "Animation        6.531250  6.464706  6.705263  6.379747  6.298311  6.475494\n",
       "Comedy           6.153982  6.411475  6.021729  5.913026  5.779099  5.929355\n",
       "Crime            6.444186  6.671084  6.151634  6.264444  6.084764  5.880000\n",
       "Documentary      7.150000  6.784615  7.176923  7.021739  6.825000  6.930154\n",
       "Drama            6.370833  6.512552  6.256974  6.221810  6.124396  6.069739\n",
       "Family           6.407692  6.428205  6.360952  5.808791  5.864968  6.139145\n",
       "Fantasy          5.817391  6.123333  5.965854  5.788830  5.815313  5.907328\n",
       "Foreign          6.188889  6.566667  6.050000  5.931250  5.973786  5.927273\n",
       "History          6.293548  6.417391  6.584848  6.369811  6.372174  6.464557\n",
       "Horror           6.068085  6.090385  5.764706  5.469841  5.257851  5.010473\n",
       "Music            6.219048  6.648000  6.476923  6.346939  6.379339  6.625000\n",
       "Mystery          6.387500  6.439286  6.127778  6.118919  5.844170  5.713242\n",
       "Romance          6.176119  6.380392  6.072571  6.073021  5.941390  6.093708\n",
       "Science Fiction  6.011765  5.927273  5.831977  5.520853  5.664420  5.582740\n",
       "TV Movie         7.150000  5.437500  6.122222  5.610526  5.662264  5.881579\n",
       "Thriller         6.328125  6.347973  5.995385  5.895960  5.719692  5.511077\n",
       "War              6.229032  6.408000  6.290625  6.317241  6.292045  6.290769\n",
       "Western          6.083333  6.416667  6.028571  6.012000  5.803846  6.003571"
      ]
     },
     "execution_count": 161,
     "metadata": {},
     "output_type": "execute_result"
    }
   ],
   "source": [
    "#newdf_k = newdf.reset_index()\n",
    "#del newdf['level_0']\n",
    "newdf.pivot_table(index='genres', columns = 'year_bin')['vote_average']"
   ]
  },
  {
   "cell_type": "code",
   "execution_count": 150,
   "metadata": {
    "collapsed": false
   },
   "outputs": [
    {
     "ename": "ValueError",
     "evalue": "Index contains duplicate entries, cannot reshape",
     "output_type": "error",
     "traceback": [
      "\u001b[0;31m---------------------------------------------------------------------------\u001b[0m",
      "\u001b[0;31mValueError\u001b[0m                                Traceback (most recent call last)",
      "\u001b[0;32m<ipython-input-150-ca6ab069f4aa>\u001b[0m in \u001b[0;36m<module>\u001b[0;34m()\u001b[0m\n\u001b[0;32m----> 1\u001b[0;31m \u001b[0mnewdf_k\u001b[0m\u001b[1;33m.\u001b[0m\u001b[0mpivot\u001b[0m\u001b[1;33m(\u001b[0m\u001b[0mindex\u001b[0m \u001b[1;33m=\u001b[0m \u001b[1;34m'genres'\u001b[0m\u001b[1;33m,\u001b[0m \u001b[0mcolumns\u001b[0m\u001b[1;33m=\u001b[0m\u001b[1;34m'year_bin'\u001b[0m\u001b[1;33m)\u001b[0m\u001b[1;33m\u001b[0m\u001b[0m\n\u001b[0m",
      "\u001b[0;32mC:\\Users\\roshg\\Anaconda3\\envs\\dand\\lib\\site-packages\\pandas\\core\\frame.pyc\u001b[0m in \u001b[0;36mpivot\u001b[0;34m(self, index, columns, values)\u001b[0m\n\u001b[1;32m   3944\u001b[0m         \"\"\"\n\u001b[1;32m   3945\u001b[0m         \u001b[1;32mfrom\u001b[0m \u001b[0mpandas\u001b[0m\u001b[1;33m.\u001b[0m\u001b[0mcore\u001b[0m\u001b[1;33m.\u001b[0m\u001b[0mreshape\u001b[0m \u001b[1;32mimport\u001b[0m \u001b[0mpivot\u001b[0m\u001b[1;33m\u001b[0m\u001b[0m\n\u001b[0;32m-> 3946\u001b[0;31m         \u001b[1;32mreturn\u001b[0m \u001b[0mpivot\u001b[0m\u001b[1;33m(\u001b[0m\u001b[0mself\u001b[0m\u001b[1;33m,\u001b[0m \u001b[0mindex\u001b[0m\u001b[1;33m=\u001b[0m\u001b[0mindex\u001b[0m\u001b[1;33m,\u001b[0m \u001b[0mcolumns\u001b[0m\u001b[1;33m=\u001b[0m\u001b[0mcolumns\u001b[0m\u001b[1;33m,\u001b[0m \u001b[0mvalues\u001b[0m\u001b[1;33m=\u001b[0m\u001b[0mvalues\u001b[0m\u001b[1;33m)\u001b[0m\u001b[1;33m\u001b[0m\u001b[0m\n\u001b[0m\u001b[1;32m   3947\u001b[0m \u001b[1;33m\u001b[0m\u001b[0m\n\u001b[1;32m   3948\u001b[0m     \u001b[1;32mdef\u001b[0m \u001b[0mstack\u001b[0m\u001b[1;33m(\u001b[0m\u001b[0mself\u001b[0m\u001b[1;33m,\u001b[0m \u001b[0mlevel\u001b[0m\u001b[1;33m=\u001b[0m\u001b[1;33m-\u001b[0m\u001b[1;36m1\u001b[0m\u001b[1;33m,\u001b[0m \u001b[0mdropna\u001b[0m\u001b[1;33m=\u001b[0m\u001b[0mTrue\u001b[0m\u001b[1;33m)\u001b[0m\u001b[1;33m:\u001b[0m\u001b[1;33m\u001b[0m\u001b[0m\n",
      "\u001b[0;32mC:\\Users\\roshg\\Anaconda3\\envs\\dand\\lib\\site-packages\\pandas\\core\\reshape.pyc\u001b[0m in \u001b[0;36mpivot\u001b[0;34m(self, index, columns, values)\u001b[0m\n\u001b[1;32m    326\u001b[0m         \u001b[0mappend\u001b[0m \u001b[1;33m=\u001b[0m \u001b[0mindex\u001b[0m \u001b[1;32mis\u001b[0m \u001b[0mNone\u001b[0m\u001b[1;33m\u001b[0m\u001b[0m\n\u001b[1;32m    327\u001b[0m         \u001b[0mindexed\u001b[0m \u001b[1;33m=\u001b[0m \u001b[0mself\u001b[0m\u001b[1;33m.\u001b[0m\u001b[0mset_index\u001b[0m\u001b[1;33m(\u001b[0m\u001b[0mcols\u001b[0m\u001b[1;33m,\u001b[0m \u001b[0mappend\u001b[0m\u001b[1;33m=\u001b[0m\u001b[0mappend\u001b[0m\u001b[1;33m)\u001b[0m\u001b[1;33m\u001b[0m\u001b[0m\n\u001b[0;32m--> 328\u001b[0;31m         \u001b[1;32mreturn\u001b[0m \u001b[0mindexed\u001b[0m\u001b[1;33m.\u001b[0m\u001b[0munstack\u001b[0m\u001b[1;33m(\u001b[0m\u001b[0mcolumns\u001b[0m\u001b[1;33m)\u001b[0m\u001b[1;33m\u001b[0m\u001b[0m\n\u001b[0m\u001b[1;32m    329\u001b[0m     \u001b[1;32melse\u001b[0m\u001b[1;33m:\u001b[0m\u001b[1;33m\u001b[0m\u001b[0m\n\u001b[1;32m    330\u001b[0m         \u001b[1;32mif\u001b[0m \u001b[0mindex\u001b[0m \u001b[1;32mis\u001b[0m \u001b[0mNone\u001b[0m\u001b[1;33m:\u001b[0m\u001b[1;33m\u001b[0m\u001b[0m\n",
      "\u001b[0;32mC:\\Users\\roshg\\Anaconda3\\envs\\dand\\lib\\site-packages\\pandas\\core\\frame.pyc\u001b[0m in \u001b[0;36munstack\u001b[0;34m(self, level, fill_value)\u001b[0m\n\u001b[1;32m   4045\u001b[0m         \"\"\"\n\u001b[1;32m   4046\u001b[0m         \u001b[1;32mfrom\u001b[0m \u001b[0mpandas\u001b[0m\u001b[1;33m.\u001b[0m\u001b[0mcore\u001b[0m\u001b[1;33m.\u001b[0m\u001b[0mreshape\u001b[0m \u001b[1;32mimport\u001b[0m \u001b[0munstack\u001b[0m\u001b[1;33m\u001b[0m\u001b[0m\n\u001b[0;32m-> 4047\u001b[0;31m         \u001b[1;32mreturn\u001b[0m \u001b[0munstack\u001b[0m\u001b[1;33m(\u001b[0m\u001b[0mself\u001b[0m\u001b[1;33m,\u001b[0m \u001b[0mlevel\u001b[0m\u001b[1;33m,\u001b[0m \u001b[0mfill_value\u001b[0m\u001b[1;33m)\u001b[0m\u001b[1;33m\u001b[0m\u001b[0m\n\u001b[0m\u001b[1;32m   4048\u001b[0m \u001b[1;33m\u001b[0m\u001b[0m\n\u001b[1;32m   4049\u001b[0m     \u001b[1;31m# ----------------------------------------------------------------------\u001b[0m\u001b[1;33m\u001b[0m\u001b[1;33m\u001b[0m\u001b[0m\n",
      "\u001b[0;32mC:\\Users\\roshg\\Anaconda3\\envs\\dand\\lib\\site-packages\\pandas\\core\\reshape.pyc\u001b[0m in \u001b[0;36munstack\u001b[0;34m(obj, level, fill_value)\u001b[0m\n\u001b[1;32m    404\u001b[0m     \u001b[1;32mif\u001b[0m \u001b[0misinstance\u001b[0m\u001b[1;33m(\u001b[0m\u001b[0mobj\u001b[0m\u001b[1;33m,\u001b[0m \u001b[0mDataFrame\u001b[0m\u001b[1;33m)\u001b[0m\u001b[1;33m:\u001b[0m\u001b[1;33m\u001b[0m\u001b[0m\n\u001b[1;32m    405\u001b[0m         \u001b[1;32mif\u001b[0m \u001b[0misinstance\u001b[0m\u001b[1;33m(\u001b[0m\u001b[0mobj\u001b[0m\u001b[1;33m.\u001b[0m\u001b[0mindex\u001b[0m\u001b[1;33m,\u001b[0m \u001b[0mMultiIndex\u001b[0m\u001b[1;33m)\u001b[0m\u001b[1;33m:\u001b[0m\u001b[1;33m\u001b[0m\u001b[0m\n\u001b[0;32m--> 406\u001b[0;31m             \u001b[1;32mreturn\u001b[0m \u001b[0m_unstack_frame\u001b[0m\u001b[1;33m(\u001b[0m\u001b[0mobj\u001b[0m\u001b[1;33m,\u001b[0m \u001b[0mlevel\u001b[0m\u001b[1;33m,\u001b[0m \u001b[0mfill_value\u001b[0m\u001b[1;33m=\u001b[0m\u001b[0mfill_value\u001b[0m\u001b[1;33m)\u001b[0m\u001b[1;33m\u001b[0m\u001b[0m\n\u001b[0m\u001b[1;32m    407\u001b[0m         \u001b[1;32melse\u001b[0m\u001b[1;33m:\u001b[0m\u001b[1;33m\u001b[0m\u001b[0m\n\u001b[1;32m    408\u001b[0m             \u001b[1;32mreturn\u001b[0m \u001b[0mobj\u001b[0m\u001b[1;33m.\u001b[0m\u001b[0mT\u001b[0m\u001b[1;33m.\u001b[0m\u001b[0mstack\u001b[0m\u001b[1;33m(\u001b[0m\u001b[0mdropna\u001b[0m\u001b[1;33m=\u001b[0m\u001b[0mFalse\u001b[0m\u001b[1;33m)\u001b[0m\u001b[1;33m\u001b[0m\u001b[0m\n",
      "\u001b[0;32mC:\\Users\\roshg\\Anaconda3\\envs\\dand\\lib\\site-packages\\pandas\\core\\reshape.pyc\u001b[0m in \u001b[0;36m_unstack_frame\u001b[0;34m(obj, level, fill_value)\u001b[0m\n\u001b[1;32m    419\u001b[0m         unstacker = _Unstacker(np.empty(obj.shape, dtype=bool),  # dummy\n\u001b[1;32m    420\u001b[0m                                \u001b[0mobj\u001b[0m\u001b[1;33m.\u001b[0m\u001b[0mindex\u001b[0m\u001b[1;33m,\u001b[0m \u001b[0mlevel\u001b[0m\u001b[1;33m=\u001b[0m\u001b[0mlevel\u001b[0m\u001b[1;33m,\u001b[0m\u001b[1;33m\u001b[0m\u001b[0m\n\u001b[0;32m--> 421\u001b[0;31m                                value_columns=obj.columns)\n\u001b[0m\u001b[1;32m    422\u001b[0m         \u001b[0mnew_columns\u001b[0m \u001b[1;33m=\u001b[0m \u001b[0munstacker\u001b[0m\u001b[1;33m.\u001b[0m\u001b[0mget_new_columns\u001b[0m\u001b[1;33m(\u001b[0m\u001b[1;33m)\u001b[0m\u001b[1;33m\u001b[0m\u001b[0m\n\u001b[1;32m    423\u001b[0m         \u001b[0mnew_index\u001b[0m \u001b[1;33m=\u001b[0m \u001b[0munstacker\u001b[0m\u001b[1;33m.\u001b[0m\u001b[0mget_new_index\u001b[0m\u001b[1;33m(\u001b[0m\u001b[1;33m)\u001b[0m\u001b[1;33m\u001b[0m\u001b[0m\n",
      "\u001b[0;32mC:\\Users\\roshg\\Anaconda3\\envs\\dand\\lib\\site-packages\\pandas\\core\\reshape.pyc\u001b[0m in \u001b[0;36m__init__\u001b[0;34m(self, values, index, level, value_columns, fill_value)\u001b[0m\n\u001b[1;32m    101\u001b[0m \u001b[1;33m\u001b[0m\u001b[0m\n\u001b[1;32m    102\u001b[0m         \u001b[0mself\u001b[0m\u001b[1;33m.\u001b[0m\u001b[0m_make_sorted_values_labels\u001b[0m\u001b[1;33m(\u001b[0m\u001b[1;33m)\u001b[0m\u001b[1;33m\u001b[0m\u001b[0m\n\u001b[0;32m--> 103\u001b[0;31m         \u001b[0mself\u001b[0m\u001b[1;33m.\u001b[0m\u001b[0m_make_selectors\u001b[0m\u001b[1;33m(\u001b[0m\u001b[1;33m)\u001b[0m\u001b[1;33m\u001b[0m\u001b[0m\n\u001b[0m\u001b[1;32m    104\u001b[0m \u001b[1;33m\u001b[0m\u001b[0m\n\u001b[1;32m    105\u001b[0m     \u001b[1;32mdef\u001b[0m \u001b[0m_make_sorted_values_labels\u001b[0m\u001b[1;33m(\u001b[0m\u001b[0mself\u001b[0m\u001b[1;33m)\u001b[0m\u001b[1;33m:\u001b[0m\u001b[1;33m\u001b[0m\u001b[0m\n",
      "\u001b[0;32mC:\\Users\\roshg\\Anaconda3\\envs\\dand\\lib\\site-packages\\pandas\\core\\reshape.pyc\u001b[0m in \u001b[0;36m_make_selectors\u001b[0;34m(self)\u001b[0m\n\u001b[1;32m    139\u001b[0m \u001b[1;33m\u001b[0m\u001b[0m\n\u001b[1;32m    140\u001b[0m         \u001b[1;32mif\u001b[0m \u001b[0mmask\u001b[0m\u001b[1;33m.\u001b[0m\u001b[0msum\u001b[0m\u001b[1;33m(\u001b[0m\u001b[1;33m)\u001b[0m \u001b[1;33m<\u001b[0m \u001b[0mlen\u001b[0m\u001b[1;33m(\u001b[0m\u001b[0mself\u001b[0m\u001b[1;33m.\u001b[0m\u001b[0mindex\u001b[0m\u001b[1;33m)\u001b[0m\u001b[1;33m:\u001b[0m\u001b[1;33m\u001b[0m\u001b[0m\n\u001b[0;32m--> 141\u001b[0;31m             raise ValueError('Index contains duplicate entries, '\n\u001b[0m\u001b[1;32m    142\u001b[0m                              'cannot reshape')\n\u001b[1;32m    143\u001b[0m \u001b[1;33m\u001b[0m\u001b[0m\n",
      "\u001b[0;31mValueError\u001b[0m: Index contains duplicate entries, cannot reshape"
     ]
    }
   ],
   "source": [
    "newdf_k.pivot(index = 'genres', columns='year_bin')"
   ]
  },
  {
   "cell_type": "code",
   "execution_count": null,
   "metadata": {
    "collapsed": true
   },
   "outputs": [],
   "source": [
    "#Creating two dataframes. \n",
    "#gyr_df = ratings of each genres, in each of the yearbins\n",
    "\n",
    "index = list(genresbeingstudied)\n",
    "columns = ['a','b','c','d','e','f']\n",
    "gyr_df = pd.DataFrame(index = index, columns=columns)\n",
    "profit_df = pd.DataFrame(index = index, columns=columns)\n",
    "roi_df = pd.DataFrame(index = index, columns=columns)\n"
   ]
  },
  {
   "cell_type": "code",
   "execution_count": null,
   "metadata": {
    "collapsed": false
   },
   "outputs": [],
   "source": [
    "#for gyr_df --> the ratings for genres in each yearbins\n",
    "# we are filling values \n",
    "gb_yearbin= df.groupby('year_bin')\n",
    "\n",
    "for yearbin, yearbin_df in gb_yearbin:\n",
    "    \n",
    "    for i in list(genresbeingstudied): #for each genre we are analysing\n",
    "        \n",
    "        def ifinset(sett):\n",
    "            if(isnan(sett)):\n",
    "                #print(sett)\n",
    "                return False\n",
    "            for eachgenre in sett:\n",
    "                if eachgenre == i:\n",
    "                    return True\n",
    "            return False\n",
    "        \n",
    "        \n",
    "\n",
    "        #filling gyr_df & profit_df\n",
    "        gyr_df.loc[i,yearbin] = np.nanmean(yearbin_df[yearbin_df.genres.apply(ifinset)]['vote_average']) \n",
    "        profit_df.loc[i,yearbin] = np.nanmean(yearbin_df[yearbin_df.genres.apply(ifinset)]['profit_adj'])\n",
    "        roi_df.loc[i,yearbin] = (yearbin_df[yearbin_df.genres.apply(ifinset)]['roi_adj']).mean()\n",
    "        #ratings of genres being studied \n",
    "\n",
    "\n",
    "#roi_df"
   ]
  },
  {
   "cell_type": "code",
   "execution_count": null,
   "metadata": {
    "collapsed": false
   },
   "outputs": [],
   "source": [
    "#Normalize with avg rating of movies from the (genres being studied) in each yearbin -->\n",
    "index = list(genresbeingstudied)\n",
    "columns = ['a','b','c','d','e','f']\n",
    "#genre yearbin rating\n",
    "avg_rating_of_allgenresbeingstudied_in_eachyearbin = pd.Series(index=columns)\n",
    "\n",
    "\n",
    "for yearbin, yearbin_df in gb_yearbin:\n",
    "    \n",
    "   \n",
    "    def ifbeingstudied(set):\n",
    "        if(isnan(set)):\n",
    "            #print(set)\n",
    "            return False\n",
    "        for eachgenre in set:\n",
    "            if eachgenre in genresbeingstudied:\n",
    "                return True\n",
    "        return False\n",
    "        \n",
    "    avg_rating_of_allgenresbeingstudied_in_eachyearbin[yearbin] =\\\n",
    "    np.nanmean(yearbin_df[yearbin_df.genres.apply(ifbeingstudied)]['vote_average'])\n",
    "\n",
    "\n",
    "\n",
    "rating_plot = (gyr_df - avg_rating_of_allgenresbeingstudied_in_eachyearbin).transpose().plot.bar()\n",
    "\n",
    "rating_plot.set(xlabel=\"Year Bins\", ylabel=\"Standardized Ratings\")\n",
    "\n",
    "gyr_plot =gyr_df.transpose().plot()\n",
    "gyr_plot.set(xlabel=\"Year Bins\", ylabel=\"Standardized Ratings\")"
   ]
  },
  {
   "cell_type": "code",
   "execution_count": null,
   "metadata": {
    "collapsed": false
   },
   "outputs": [],
   "source": [
    "#Plotting for profit_adj \n",
    "\n",
    "profit_plot = profit_df.transpose().plot()\n",
    "profit_plot.set(xlabel='Year Bins', ylabel='Profit * 10^8')\n"
   ]
  },
  {
   "cell_type": "markdown",
   "metadata": {},
   "source": [
    "We see that profits for adventure has almost always been higher than the others. Aventure movie profits are on the rise "
   ]
  },
  {
   "cell_type": "markdown",
   "metadata": {},
   "source": [
    "***How have the user ratings for popular genres changed over these periods, keeping in mind the user average user sentiment for that particular genre over 50 years***\n"
   ]
  },
  {
   "cell_type": "code",
   "execution_count": null,
   "metadata": {
    "collapsed": false
   },
   "outputs": [],
   "source": [
    "#find average rating of the genresbeingstudied from 1960 - 2015\n",
    "\n",
    "\n",
    "avg_rating_of_genresbeingstudied_dict = {}\n",
    "\n",
    "for i in list(genresbeingstudied):\n",
    "    #print i\n",
    "    \n",
    "    def ifinset(sett):\n",
    "            if(isnan(sett)):\n",
    "                #print(sett)\n",
    "                return False\n",
    "            for eachgenre in sett:\n",
    "                if eachgenre == i:\n",
    "                    return True\n",
    "            return False\n",
    "    \n",
    "    avg_rating_of_genresbeingstudied_dict[i]=(np.nanmean(df[df.genres.apply(ifinset)]['vote_average']))\n",
    "    \n",
    "\n",
    "\n",
    "#putting into Series\n",
    "\n",
    "avg_rating_of_genresbeingstudied_series = pd.Series(avg_rating_of_genresbeingstudied_dict.values(), index = avg_rating_of_genresbeingstudied_dict.keys())\n",
    "avg_rating_of_genresbeingstudied_series"
   ]
  },
  {
   "cell_type": "code",
   "execution_count": null,
   "metadata": {
    "collapsed": false
   },
   "outputs": [],
   "source": [
    "\n",
    "stdrating_plot =gyr_df.loc[list(genresbeingstudied)].sub(avg_rating_of_genresbeingstudied_series, axis =0).transpose().plot()\n",
    "stdrating_plot.set(xlabel='Year Bins', ylabel='Profit * 10^8')\n",
    "\n",
    "#This is after the avg rating of each genres has been normallized with all ratings of that genre across all years"
   ]
  },
  {
   "cell_type": "markdown",
   "metadata": {},
   "source": [
    "We see that Romance comedy and adventure have been rising over the last 20 years. "
   ]
  },
  {
   "cell_type": "markdown",
   "metadata": {},
   "source": [
    "<a id='conclusions'></a>\n",
    "## Conclusions\n"
   ]
  },
  {
   "cell_type": "markdown",
   "metadata": {
    "collapsed": true
   },
   "source": [
    "We see that the most popular genres according to movies appearing in the database are : \n",
    "Drama Comedy Thriller Action and Romance.\n",
    "The least popular being : Western, TV Movie, and Foreign. \n",
    "\n",
    "We see that over the years, rating for horror movies have been on a constant decline.\n",
    "Adventure, Comedy and Romance movies' ratings have been on the rise from 1990   \n",
    "\n",
    "\n",
    "We see that profit for adventure movies are always tend to stand out from the rest. Also in the last 20 years, profits for adventure movies have been climbing. \n",
    "\n",
    "Clearly, adventure seems to be the top most genre according to popularity, earnings and recent growth. "
   ]
  }
 ],
 "metadata": {
  "anaconda-cloud": {},
  "kernelspec": {
   "display_name": "Python 2",
   "language": "python",
   "name": "python2"
  },
  "language_info": {
   "codemirror_mode": {
    "name": "ipython",
    "version": 2
   },
   "file_extension": ".py",
   "mimetype": "text/x-python",
   "name": "python",
   "nbconvert_exporter": "python",
   "pygments_lexer": "ipython2",
   "version": "2.7.12"
  }
 },
 "nbformat": 4,
 "nbformat_minor": 2
}
