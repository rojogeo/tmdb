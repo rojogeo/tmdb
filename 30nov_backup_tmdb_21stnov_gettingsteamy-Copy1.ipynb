{
 "cells": [
  {
   "cell_type": "markdown",
   "metadata": {},
   "source": [
    "\n",
    "\n",
    "# Project: Investigate a TMDb movie dataset (21Nov17)\n",
    "\n",
    "## Table of Contents\n",
    "<ul>\n",
    "<li><a href=\"#intro\">Introduction</a></li>\n",
    "<li><a href=\"#wrangling\">Data Wrangling</a></li>\n",
    "<li><a href=\"#eda\">Exploratory Data Analysis</a></li>\n",
    "<li><a href=\"#conclusions\">Conclusions</a></li>\n",
    "</ul>"
   ]
  },
  {
   "cell_type": "markdown",
   "metadata": {},
   "source": [
    "<a id='intro'></a>\n",
    "## Introduction\n",
    "\n",
    "\n",
    "Questions for research\n",
    "- Per actor, what is the avg box office earning of films he has acted in. \n",
    "- per actor, what is the avg rating of movies he has acted in. \n",
    "- highest rated genres per yearbins, highest box office earning genres per year. \n",
    "\n",
    "Additional questions\n",
    "- Highest rated genres per yearbins, highest box office earning genres per year. \n",
    "- Per actor, what is the avg box office earning of films he has acted in. \n",
    "- per actor, what is the avg rating of movies he has acted in. \n"
   ]
  },
  {
   "cell_type": "code",
   "execution_count": 4,
   "metadata": {
    "collapsed": true
   },
   "outputs": [],
   "source": [
    "# Use this cell to set up import statements for all of the packages that you\n",
    "#   plan to use.\n",
    "\n",
    "import matplotlib.pyplot as plt\n",
    "%matplotlib inline\n",
    "\n",
    "import numpy as np\n",
    "import pandas as pd\n",
    "import seaborn as sns\n",
    "import time"
   ]
  },
  {
   "cell_type": "markdown",
   "metadata": {},
   "source": [
    "<a id='wrangling'></a>\n",
    "## Wrangling\n",
    "\n",
    "you will load in the data, check for cleanliness, and then trim and clean your dataset for analysis. Make sure that you document your steps carefully and justify your cleaning decisions.\n",
    "\n",
    "### General Properties"
   ]
  },
  {
   "cell_type": "code",
   "execution_count": 5,
   "metadata": {
    "collapsed": false
   },
   "outputs": [
    {
     "data": {
      "text/html": [
       "<div>\n",
       "<table border=\"1\" class=\"dataframe\">\n",
       "  <thead>\n",
       "    <tr style=\"text-align: right;\">\n",
       "      <th></th>\n",
       "      <th>keywords</th>\n",
       "      <th>overview</th>\n",
       "      <th>runtime</th>\n",
       "      <th>genres</th>\n",
       "      <th>production_companies</th>\n",
       "      <th>release_date</th>\n",
       "      <th>vote_count</th>\n",
       "      <th>vote_average</th>\n",
       "      <th>release_year</th>\n",
       "      <th>budget_adj</th>\n",
       "      <th>revenue_adj</th>\n",
       "    </tr>\n",
       "  </thead>\n",
       "  <tbody>\n",
       "    <tr>\n",
       "      <th>0</th>\n",
       "      <td>monster|dna|tyrannosaurus rex|velociraptor|island</td>\n",
       "      <td>Twenty-two years after the events of Jurassic ...</td>\n",
       "      <td>124</td>\n",
       "      <td>Action|Adventure|Science Fiction|Thriller</td>\n",
       "      <td>Universal Studios|Amblin Entertainment|Legenda...</td>\n",
       "      <td>6/9/15</td>\n",
       "      <td>5562</td>\n",
       "      <td>6.5</td>\n",
       "      <td>2015</td>\n",
       "      <td>1.379999e+08</td>\n",
       "      <td>1.392446e+09</td>\n",
       "    </tr>\n",
       "  </tbody>\n",
       "</table>\n",
       "</div>"
      ],
      "text/plain": [
       "                                            keywords  \\\n",
       "0  monster|dna|tyrannosaurus rex|velociraptor|island   \n",
       "\n",
       "                                            overview  runtime  \\\n",
       "0  Twenty-two years after the events of Jurassic ...      124   \n",
       "\n",
       "                                      genres  \\\n",
       "0  Action|Adventure|Science Fiction|Thriller   \n",
       "\n",
       "                                production_companies release_date  vote_count  \\\n",
       "0  Universal Studios|Amblin Entertainment|Legenda...       6/9/15        5562   \n",
       "\n",
       "   vote_average  release_year    budget_adj   revenue_adj  \n",
       "0           6.5          2015  1.379999e+08  1.392446e+09  "
      ]
     },
     "execution_count": 5,
     "metadata": {},
     "output_type": "execute_result"
    }
   ],
   "source": [
    "# Load your data and print out a few lines. Perform operations to inspect data\n",
    "#   types and look for instances of missing or possibly errant data.\n",
    "\n",
    "tmdb_df = pd.read_csv('tmdb-movies.csv')\n",
    "len(tmdb_df)\n",
    "tmdb_df.iloc[:1, 10:]\n",
    "#cast, director, production companies, keywords, genres\n",
    "#"
   ]
  },
  {
   "cell_type": "markdown",
   "metadata": {},
   "source": [
    "<h3>PROBLEM 1</h3>"
   ]
  },
  {
   "cell_type": "code",
   "execution_count": 6,
   "metadata": {
    "collapsed": false
   },
   "outputs": [
    {
     "data": {
      "text/plain": [
       "10865"
      ]
     },
     "execution_count": 6,
     "metadata": {},
     "output_type": "execute_result"
    }
   ],
   "source": [
    "#tmdb_df.duplicated('id')\n",
    "df = tmdb_df\n",
    "df[df.duplicated(['id'], keep=False)]  #row 2089 and 2090 have same content . id = 42194\n",
    "\n",
    "#delete 2090\n",
    "df.drop(2090, inplace=True) #row has been deleted.\n",
    "len(df)  #new length - 10865"
   ]
  },
  {
   "cell_type": "markdown",
   "metadata": {},
   "source": [
    "<h3>PROBLEM 2</h3>\n",
    "We see that its string type. We need to convert it to python date type. "
   ]
  },
  {
   "cell_type": "markdown",
   "metadata": {},
   "source": [
    "Checking what is the type stored in 'release_date' column"
   ]
  },
  {
   "cell_type": "code",
   "execution_count": null,
   "metadata": {
    "collapsed": false
   },
   "outputs": [],
   "source": [
    "type(df['release_date'][2])"
   ]
  },
  {
   "cell_type": "markdown",
   "metadata": {},
   "source": [
    "<h3>PROBLEM 3</h3>\n",
    "We see that the 'cast' column has string data separated by '|'. We would want them to be in list form. We can use .split() for this. \n",
    "Same for 'genres', 'production_companies' and 'keywords'"
   ]
  },
  {
   "cell_type": "code",
   "execution_count": null,
   "metadata": {
    "collapsed": true
   },
   "outputs": [],
   "source": [
    "print(df['cast'][4])"
   ]
  },
  {
   "cell_type": "markdown",
   "metadata": {},
   "source": [
    "\n",
    "<h3>PROBLEM 4<h3>\n"
   ]
  },
  {
   "cell_type": "code",
   "execution_count": null,
   "metadata": {
    "collapsed": false
   },
   "outputs": [],
   "source": [
    "tmdb_df.iloc[0:2, 14:].head()"
   ]
  },
  {
   "cell_type": "markdown",
   "metadata": {},
   "source": [
    "> **Tip**: You should _not_ perform too many operations in each cell. Create cells freely to explore your data. One option that you can take with this project is to do a lot of explorations in an initial notebook. These don't have to be organized, but make sure you use enough comments to understand the purpose of each code cell. Then, after you're done with your analysis, create a duplicate notebook where you will trim the excess and organize your steps so that you have a flowing, cohesive report.\n",
    "\n",
    "> **Tip**: Make sure that you keep your reader informed on the steps that you are taking in your investigation. Follow every code cell, or every set of related code cells, with a markdown cell to describe to the reader what was found in the preceding cell(s). Try to make it so that the reader can then understand what they will be seeing in the following cell(s).\n",
    "\n",
    "### Data Cleaning (Replace this with more specific notes!)"
   ]
  },
  {
   "cell_type": "markdown",
   "metadata": {},
   "source": [
    "Problem 2 - fixing\n",
    "changing str to date type\n"
   ]
  },
  {
   "cell_type": "code",
   "execution_count": null,
   "metadata": {
    "collapsed": true
   },
   "outputs": [],
   "source": [
    "# After discussing the structure of the data and any problems that need to be\n",
    "#   cleaned, perform those cleaning steps in the second part of this section.\n"
   ]
  },
  {
   "cell_type": "code",
   "execution_count": null,
   "metadata": {
    "collapsed": true
   },
   "outputs": [],
   "source": [
    "\n",
    "\n",
    "def parsedate(string):\n",
    "    return time.strptime(string, '%x')\n",
    "\n",
    "parsedate('10/02/92')\n",
    "\n",
    "df['release_date'] = df['release_date'].apply(parsedate)"
   ]
  },
  {
   "cell_type": "markdown",
   "metadata": {},
   "source": [
    "PROBLEM -3 fixing\n",
    "Making | separated string values, into a list of strings"
   ]
  },
  {
   "cell_type": "code",
   "execution_count": 7,
   "metadata": {
    "collapsed": true
   },
   "outputs": [],
   "source": [
    "def isnan(f):\n",
    "    return isinstance(f, float) and f!=f\n"
   ]
  },
  {
   "cell_type": "markdown",
   "metadata": {},
   "source": [
    "a: 1960 - 1969\n",
    "b: 1970 - 1979\n",
    "c: 1980 - 1989\n",
    "d: 1990 - 1999\n",
    "e: 2000 - 2009\n",
    "f: 2010 - 2019"
   ]
  },
  {
   "cell_type": "code",
   "execution_count": 8,
   "metadata": {
    "collapsed": true
   },
   "outputs": [],
   "source": [
    "#check if release_year has nans\n",
    "assert len(df[df.release_year.apply(isnan)]) == 0 # returned 0rows x 24 columns --> no nan values\n",
    "\n",
    "#new column - year_bin a,b,c,d,e,f \n",
    "def yearbins(year):\n",
    "    \n",
    "    if 1960 <= year <= 1969:\n",
    "        return 'a'\n",
    "    if 1970 <= year <= 1979:\n",
    "        return 'b'\n",
    "    if 1980 <= year <= 1989:\n",
    "        return 'c'\n",
    "    if 1990 <= year <= 1999:\n",
    "        return 'd'\n",
    "    if 2000 <= year <= 2009:\n",
    "        return 'e'\n",
    "    if 2010 <= year <= 2019:\n",
    "        return 'f'\n",
    "\n",
    "df['year_bin']=df.release_year.apply(yearbins)"
   ]
  },
  {
   "cell_type": "code",
   "execution_count": 9,
   "metadata": {
    "collapsed": true
   },
   "outputs": [],
   "source": [
    "#cast, director, keywords, genres, production companies --> make into set\n",
    "    \n",
    "\n",
    "def splitstringtoset(string):\n",
    "    newset = set()\n",
    "    if isnan(string):\n",
    "            return string\n",
    "    \n",
    "    else:\n",
    "        for q in [x.strip() for x in string.split('|')]:\n",
    "            newset.add(q)\n",
    "    return newset\n",
    "\n",
    "df.cast=df.cast.apply(splitstringtoset)\n",
    "df.director=df.director.apply(splitstringtoset)\n",
    "df.keywords = df.keywords.apply(splitstringtoset)\n",
    "df.genres = df.genres.apply(splitstringtoset)\n",
    "df.production_companies = df.production_companies.apply(splitstringtoset)\n",
    "\n",
    "\n",
    "\n",
    "#cast, director, keywords, genres, production companies \n"
   ]
  },
  {
   "cell_type": "markdown",
   "metadata": {},
   "source": [
    "<a id='eda'></a>\n",
    "## Exploration\n",
    "\n",
    "> **Tip**: Now that you've trimmed and cleaned your data, you're ready to move on to exploration. Compute statistics and create visualizations with the goal of addressing the research questions that you posed in the Introduction section. It is recommended that you be systematic with your approach. Look at one variable at a time, and then follow it up by looking at relationships between variables.\n",
    "\n",
    "### Q1\n",
    "### Which genres are most popular from year to year? \n",
    "highest rated genres per year, highest box office earning genres per year.\n",
    "\n",
    "Algo:\n",
    "for each yearbin of 10 years\n",
    "take all genres appearing in all movies in that yearbin. \n",
    "for each genre, find the avg rating and avg. (revenue_adj - budget_adj), of all the movies that contain that genre tag. \n"
   ]
  },
  {
   "cell_type": "code",
   "execution_count": null,
   "metadata": {
    "collapsed": true
   },
   "outputs": [],
   "source": [
    "df.cast.iloc[0]"
   ]
  },
  {
   "cell_type": "code",
   "execution_count": null,
   "metadata": {
    "collapsed": true
   },
   "outputs": [],
   "source": [
    "# Use this, and more code cells, to explore your data. Don't forget to add\n",
    "#   Markdown cells to document your observations and findings.\n",
    "#Algo:\n",
    "#for each year bin\n",
    "#for each genre, find the avg rating and avg. (revenue_adj - budget_adj), of all the movies that contain that genre tag. \n",
    "\n",
    "#allgenres_yearbin = {} #all genres seen in a yearbin. key value pairs(deprecated) --> same as allgenres"
   ]
  },
  {
   "cell_type": "code",
   "execution_count": 10,
   "metadata": {
    "collapsed": false
   },
   "outputs": [],
   "source": [
    "# populate allgenres --> set\n",
    "\n",
    "gb_yearbin= df.groupby('year_bin')\n",
    "allgenres=set() #all genres of movives\n",
    "\n",
    "for yearbin, year_df in gb_yearbin:\n",
    "   \n",
    "    def splitcsv(list):\n",
    "       \n",
    "        if(isnan(list)):\n",
    "            pass\n",
    "        \n",
    "        else:\n",
    "            for x in list:\n",
    "                allgenres.add(x)\n",
    "    \n",
    "    \n",
    "    year_df.genres.apply(splitcsv) #populating all genres\n",
    "    \n",
    "#allgenres\n",
    "    "
   ]
  },
  {
   "cell_type": "code",
   "execution_count": 11,
   "metadata": {
    "collapsed": false
   },
   "outputs": [],
   "source": [
    "index = list(allgenres)\n",
    "columns = ['a','b','c','d','e','f']\n",
    "#genre yearbin rating\n",
    "gyr_df = pd.DataFrame(index = index, columns=columns)\n",
    "numberofoccurences_genre = pd.DataFrame(index = index, columns = columns)\n",
    "\n"
   ]
  },
  {
   "cell_type": "code",
   "execution_count": 96,
   "metadata": {
    "collapsed": false
   },
   "outputs": [],
   "source": [
    "#for gyr_df --> the ratings for genres in each yearbins\n",
    "#for numberofoccurences_genre -->  numbers of occureces of a genres in each yaerbin\n",
    "# we are filling values \n",
    "\n",
    "for yearbin, yearbin_df in gb_yearbin:\n",
    "    \n",
    "    for i in list(allgenres): #for each genre we are analysing\n",
    "        \n",
    "        def ifinset(sett):\n",
    "            if(isnan(sett)):\n",
    "                #print(sett)\n",
    "                return False\n",
    "            for eachgenre in sett:\n",
    "                if eachgenre == i:\n",
    "                    return True\n",
    "            return False\n",
    "        \n",
    "\n",
    "        #filling gyr_df\n",
    "        gyr_df.loc[i,yearbin] = np.nanmean(yearbin_df[yearbin_df.genres.apply(ifinset)]['vote_average']) \n",
    "        \n",
    "        #filling no. of occurences\n",
    "        numberofoccurences_genre.loc[i,yearbin] = len(yearbin_df[yearbin_df.genres.apply(ifinset)])"
   ]
  },
  {
   "cell_type": "code",
   "execution_count": 13,
   "metadata": {
    "collapsed": false
   },
   "outputs": [
    {
     "data": {
      "text/plain": [
       "{'Action', 'Adventure', 'Comedy', 'Drama', 'Horror', 'Romance', 'Thriller'}"
      ]
     },
     "execution_count": 13,
     "metadata": {},
     "output_type": "execute_result"
    }
   ],
   "source": [
    "#Taking top 5 genres across bins, and adding it into a set, so that we can use that set for our analysis\n",
    "\n",
    "genresbeingstudied = set()\n",
    "\n",
    "for bins in ['a','b','c','d','e','f']:\n",
    "    for genre in pd.to_numeric(numberofoccurences_genre[bins]).nlargest(5).index.values:\n",
    "        genresbeingstudied.add(genre)\n",
    "\n",
    "\n",
    "genresbeingstudied # --> we get 7 genres in total which we will study in this analysis\n",
    "    \n"
   ]
  },
  {
   "cell_type": "code",
   "execution_count": 79,
   "metadata": {
    "collapsed": false
   },
   "outputs": [
    {
     "data": {
      "text/plain": [
       "Drama        6.165546\n",
       "Horror       5.337447\n",
       "Romance      6.042874\n",
       "Adventure    5.940585\n",
       "Action       5.787752\n",
       "Comedy       5.905167\n",
       "Thriller     5.750671\n",
       "dtype: float64"
      ]
     },
     "execution_count": 79,
     "metadata": {},
     "output_type": "execute_result"
    }
   ],
   "source": [
    "#find average rating of the genresbeingstudied \n",
    "\n",
    "\n",
    "avg_rating_of_genresbeingstudied_dict = {}\n",
    "\n",
    "for i in list(genresbeingstudied):\n",
    "    #print i\n",
    "    \n",
    "    def ifinset(sett):\n",
    "            if(isnan(sett)):\n",
    "                #print(sett)\n",
    "                return False\n",
    "            for eachgenre in sett:\n",
    "                if eachgenre == i:\n",
    "                    return True\n",
    "            return False\n",
    "    \n",
    "    avg_rating_of_genresbeingstudied_dict[i]=(np.nanmean(df[df.genres.apply(ifinset)]['vote_average']))\n",
    "    \n",
    "\n",
    "\n",
    "#putting into Series\n",
    "\n",
    "avg_rating_of_genresbeingstudied_series = pd.Series(avg_rating_of_genresbeingstudied_dict.values(), index = avg_rating_of_genresbeingstudied_dict.keys())\n",
    "avg_rating_of_genresbeingstudied_series"
   ]
  },
  {
   "cell_type": "code",
   "execution_count": 93,
   "metadata": {
    "collapsed": false
   },
   "outputs": [
    {
     "data": {
      "text/html": [
       "<div>\n",
       "<table border=\"1\" class=\"dataframe\">\n",
       "  <thead>\n",
       "    <tr style=\"text-align: right;\">\n",
       "      <th></th>\n",
       "      <th>a</th>\n",
       "      <th>b</th>\n",
       "      <th>c</th>\n",
       "      <th>d</th>\n",
       "      <th>e</th>\n",
       "      <th>f</th>\n",
       "    </tr>\n",
       "  </thead>\n",
       "  <tbody>\n",
       "    <tr>\n",
       "      <th>Action</th>\n",
       "      <td>0.254556</td>\n",
       "      <td>0.583323</td>\n",
       "      <td>0.144234</td>\n",
       "      <td>-0.0110484</td>\n",
       "      <td>-0.0431363</td>\n",
       "      <td>-0.134212</td>\n",
       "    </tr>\n",
       "    <tr>\n",
       "      <th>Adventure</th>\n",
       "      <td>0.309415</td>\n",
       "      <td>0.380195</td>\n",
       "      <td>0.107415</td>\n",
       "      <td>-0.124221</td>\n",
       "      <td>-0.110743</td>\n",
       "      <td>0.0596827</td>\n",
       "    </tr>\n",
       "    <tr>\n",
       "      <th>Comedy</th>\n",
       "      <td>0.248815</td>\n",
       "      <td>0.506308</td>\n",
       "      <td>0.116562</td>\n",
       "      <td>0.00785837</td>\n",
       "      <td>-0.126068</td>\n",
       "      <td>0.0241877</td>\n",
       "    </tr>\n",
       "    <tr>\n",
       "      <th>Drama</th>\n",
       "      <td>0.205287</td>\n",
       "      <td>0.347006</td>\n",
       "      <td>0.0914278</td>\n",
       "      <td>0.0562635</td>\n",
       "      <td>-0.0411499</td>\n",
       "      <td>-0.0950713</td>\n",
       "    </tr>\n",
       "    <tr>\n",
       "      <th>Horror</th>\n",
       "      <td>0.730639</td>\n",
       "      <td>0.752938</td>\n",
       "      <td>0.427259</td>\n",
       "      <td>0.132395</td>\n",
       "      <td>-0.0795953</td>\n",
       "      <td>-0.326974</td>\n",
       "    </tr>\n",
       "    <tr>\n",
       "      <th>Romance</th>\n",
       "      <td>0.133246</td>\n",
       "      <td>0.337518</td>\n",
       "      <td>0.0296976</td>\n",
       "      <td>0.0301467</td>\n",
       "      <td>-0.101484</td>\n",
       "      <td>0.050834</td>\n",
       "    </tr>\n",
       "    <tr>\n",
       "      <th>Thriller</th>\n",
       "      <td>0.577454</td>\n",
       "      <td>0.597302</td>\n",
       "      <td>0.244714</td>\n",
       "      <td>0.145289</td>\n",
       "      <td>-0.0309785</td>\n",
       "      <td>-0.239065</td>\n",
       "    </tr>\n",
       "  </tbody>\n",
       "</table>\n",
       "</div>"
      ],
      "text/plain": [
       "                  a         b          c           d          e          f\n",
       "Action     0.254556  0.583323   0.144234  -0.0110484 -0.0431363  -0.134212\n",
       "Adventure  0.309415  0.380195   0.107415   -0.124221  -0.110743  0.0596827\n",
       "Comedy     0.248815  0.506308   0.116562  0.00785837  -0.126068  0.0241877\n",
       "Drama      0.205287  0.347006  0.0914278   0.0562635 -0.0411499 -0.0950713\n",
       "Horror     0.730639  0.752938   0.427259    0.132395 -0.0795953  -0.326974\n",
       "Romance    0.133246  0.337518  0.0296976   0.0301467  -0.101484   0.050834\n",
       "Thriller   0.577454  0.597302   0.244714    0.145289 -0.0309785  -0.239065"
      ]
     },
     "execution_count": 93,
     "metadata": {},
     "output_type": "execute_result"
    },
    {
     "data": {
      "image/png": "[encoded data removed]",
      "text/plain": [
       "<matplotlib.figure.Figure at 0xc957d68>"
      ]
     },
     "metadata": {},
     "output_type": "display_data"
    }
   ],
   "source": [
    "#printing gyr_df and checking if we have the right ratings for genres across the year bins\n",
    "\n",
    "gyr_df.loc[list(genresbeingstudied)].sub(avg_rating_of_genresbeingstudied_series, axis =0).transpose().plot()\n",
    "\n",
    "gyr_df.loc[list(genresbeingstudied)].sub(avg_rating_of_genresbeingstudied_series, axis =0)\n",
    "\n",
    "#This is after the avg rating of each genres has been normallized with all ratings of that genre across all years"
   ]
  },
  {
   "cell_type": "code",
   "execution_count": 104,
   "metadata": {
    "collapsed": false
   },
   "outputs": [
    {
     "data": {
      "text/plain": [
       "a    6.251632\n",
       "b    6.369915\n",
       "c    6.055193\n",
       "d    5.984155\n",
       "e    5.875045\n",
       "f    5.797906\n",
       "dtype: float64"
      ]
     },
     "execution_count": 104,
     "metadata": {},
     "output_type": "execute_result"
    }
   ],
   "source": [
    "#Normalize with avg rating of movies from the (genres being studied) in each yearbin -->\n",
    "index = list(genresbeingstudied)\n",
    "columns = ['a','b','c','d','e','f']\n",
    "#genre yearbin rating\n",
    "avg_rating_of_allgenresbeingstudied_in_eachyearbin = pd.Series(index=columns)\n",
    "\n",
    "\n",
    "for yearbin, yearbin_df in gb_yearbin:\n",
    "    \n",
    "    #for i in list(allgenres): #for each genre we are analysing\n",
    "    def ifbeingstudied(set):\n",
    "        if(isnan(set)):\n",
    "            #print(set)\n",
    "            return False\n",
    "        for eachgenre in set:\n",
    "            if eachgenre in genresbeingstudied:\n",
    "                return True\n",
    "        return False\n",
    "        \n",
    "    avg_rating_of_allgenresbeingstudied_in_eachyearbin[yearbin] =\\\n",
    "    np.nanmean(yearbin_df[yearbin_df.genres.apply(ifbeingstudied)]['vote_average'])\n",
    "\n",
    "avg_rating_of_allgenresbeingstudied_in_eachyearbin"
   ]
  },
  {
   "cell_type": "code",
   "execution_count": null,
   "metadata": {
    "collapsed": true
   },
   "outputs": [],
   "source": [
    "for yearbin, year_df in gb_yearbin:\n",
    "    \n",
    "    \n",
    "    \n",
    "    for i in allgenres_yearbin[yearbin]: #for each genre in that year\n",
    "        \n",
    "        cnt = 0\n",
    "        \n",
    "        def ifinset(sett):\n",
    "            if(isnan(sett)):\n",
    "                #print(sett)\n",
    "                return False\n",
    "            for eachgenre in sett:\n",
    "                if eachgenre == i:\n",
    "                    return True\n",
    "            return False\n",
    "        \n",
    "        def genrecounter(set):\n",
    "            if i in set:\n",
    "                cnt +=1\n",
    "            \n",
    "            \n",
    "            \n",
    "        \n",
    "        \n",
    "\n",
    "        gyr_df.loc[i,yearbin] = np.nanmean(year_df[year_df.genres.apply(ifinset)]['vote_average'])\n",
    "        #numberofoccurences_genre.loc[i,yearbin] = len(year_df[year_df.genres.apply(ifinset)])\n",
    "        \n",
    "        \n",
    "        \n",
    "        "
   ]
  },
  {
   "cell_type": "code",
   "execution_count": 71,
   "metadata": {
    "collapsed": false
   },
   "outputs": [
    {
     "data": {
      "text/plain": [
       "pandas.core.series.Series"
      ]
     },
     "execution_count": 71,
     "metadata": {},
     "output_type": "execute_result"
    }
   ],
   "source": [
    "#find average rating of movies in a,b,c,d,e,f yearbins\n",
    "\n",
    "gb_yearbin['vote_average'].mean()  # we see that the average rating of movies across yearbin have decreaed in a constant manner. \n",
    "#lets save it into a dictionary\n",
    "'''\n",
    "avg_rating_allmovies_yearbins = gb_yearbin['vote_average'].mean()\n",
    "avg_rating_allmovies_yearbins\n",
    "corrected_gyr = (gyr_df-avg_rating_allmovies_yearbins)\n",
    "#(corrected_gyr.a).nlargest(2)\n",
    "\n",
    "\n",
    "for i in ['a','b','c','d','e','f']:\n",
    "    print pd.to_numeric(corrected_gyr[i]).nlargest(5)\n",
    "    print '\\n'\n",
    "'''\n",
    "\n",
    "gb_yearbin['vote_average'].mean() #avg of all movies in that particular year bin \n",
    "gyr_df\n",
    "gyr_df-gb_yearbin['vote_average'].mean()\n",
    "type(gb_yearbin['vote_average'].mean())\n",
    "\n",
    "\n"
   ]
  },
  {
   "cell_type": "code",
   "execution_count": null,
   "metadata": {
    "collapsed": false
   },
   "outputs": [],
   "source": [
    "#find top 5 genres, and last 5 genres, in order across year bins. \n",
    "\n",
    "#find number of movies in each genre in each bins. \n",
    "for i,j in gb_yearbin:\n",
    "    print i\n",
    "    print j.release_year\n",
    "    "
   ]
  },
  {
   "cell_type": "code",
   "execution_count": null,
   "metadata": {
    "collapsed": true
   },
   "outputs": [],
   "source": [
    "df[['cast','director','keywords','genres','production_companies']]"
   ]
  },
  {
   "cell_type": "code",
   "execution_count": null,
   "metadata": {
    "collapsed": true
   },
   "outputs": [],
   "source": [
    "#add new column - 'profit_adj' : \n",
    "df['profit_adj']=df.revenue_adj.sub(df.budget_adj, axis=0)\n",
    "\n",
    "#add new column - 'roi_adj'\n",
    "df['roi_adj']=(df.profit_adj.div(df.budget_adj)).mul(100)\n",
    "df.roi_adj"
   ]
  },
  {
   "cell_type": "code",
   "execution_count": null,
   "metadata": {
    "collapsed": true
   },
   "outputs": [],
   "source": [
    "idk = (df.profit_adj > 100000000)"
   ]
  },
  {
   "cell_type": "code",
   "execution_count": null,
   "metadata": {
    "collapsed": true
   },
   "outputs": [],
   "source": [
    "df.iloc[0]"
   ]
  },
  {
   "cell_type": "markdown",
   "metadata": {},
   "source": [
    "### q2 - steamy "
   ]
  },
  {
   "cell_type": "code",
   "execution_count": null,
   "metadata": {
    "collapsed": true
   },
   "outputs": [],
   "source": [
    "What kinds of properties are associated with movies that have high revenues?\n",
    "\n",
    "# Continue to explore the data to address your additional research\n",
    "#   questions. Add more headers as needed if you have more questions to\n",
    "#   investigate.\n"
   ]
  },
  {
   "cell_type": "markdown",
   "metadata": {},
   "source": [
    "<a id='conclusions'></a>\n",
    "## Conclusions\n",
    "\n",
    "> **Tip**: Finally, summarize your findings and the results that have been performed. Make sure that you are clear with regards to the limitations of your exploration. If you haven't done any statistical tests, do not imply any statistical conclusions. And make sure you avoid implying causation from correlation!\n",
    "\n",
    "> **Tip**: Once you are satisfied with your work, you should save a copy of the report in HTML or PDF form via the **File** > **Download as** submenu. Before exporting your report, check over it to make sure that the flow of the report is complete. You should probably remove all of the \"Tip\" quotes like this one so that the presentation is as tidy as possible. Congratulations!"
   ]
  },
  {
   "cell_type": "code",
   "execution_count": null,
   "metadata": {
    "collapsed": true
   },
   "outputs": [],
   "source": []
  }
 ],
 "metadata": {
  "anaconda-cloud": {},
  "kernelspec": {
   "display_name": "Python 2",
   "language": "python",
   "name": "python2"
  },
  "language_info": {
   "codemirror_mode": {
    "name": "ipython",
    "version": 2
   },
   "file_extension": ".py",
   "mimetype": "text/x-python",
   "name": "python",
   "nbconvert_exporter": "python",
   "pygments_lexer": "ipython2",
   "version": "2.7.12"
  }
 },
 "nbformat": 4,
 "nbformat_minor": 2
}
